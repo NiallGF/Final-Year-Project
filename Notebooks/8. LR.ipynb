{
 "cells": [
  {
   "cell_type": "markdown",
   "metadata": {},
   "source": [
    "**Train Test and Cross Validation**"
   ]
  },
  {
   "cell_type": "code",
   "execution_count": 10,
   "metadata": {},
   "outputs": [
    {
     "name": "stdout",
     "output_type": "stream",
     "text": [
      "🔍 LR - Original dataset shape: (2453, 11)\n",
      "🧹 LR - After dropping NaNs: (1691, 11)\n",
      "📊 LR - Final dataset shape after scaling: (1691, 10)\n",
      "Fitting 5 folds for each of 1 candidates, totalling 5 fits\n",
      "✅ LR - Best Parameters: {'C': 0.01}\n",
      "✅ LR - K-Fold Mean Accuracy: 0.6789\n",
      "📌 LR Classification Report:\n",
      "              precision    recall  f1-score   support\n",
      "\n",
      "           0       0.68      0.55      0.61       757\n",
      "           1       0.69      0.79      0.74       934\n",
      "\n",
      "    accuracy                           0.69      1691\n",
      "   macro avg       0.69      0.67      0.67      1691\n",
      "weighted avg       0.69      0.69      0.68      1691\n",
      "\n",
      "🟦 LR Confusion Matrix:\n",
      "[[417 340]\n",
      " [192 742]]\n"
     ]
    }
   ],
   "source": [
    "import pandas as pd\n",
    "from sklearn.model_selection import KFold, GridSearchCV\n",
    "from sklearn.preprocessing import StandardScaler\n",
    "from sklearn.linear_model import LogisticRegression\n",
    "from sklearn.metrics import classification_report, confusion_matrix\n",
    "\n",
    "data_path = '/workspaces/Final-Year-Project/Cleaned Data/TrainTestData.csv'\n",
    "df = pd.read_csv(data_path)\n",
    "\n",
    "print(f\"🔍 LR - Original dataset shape: {df.shape}\")\n",
    "\n",
    "df = df.dropna()\n",
    "\n",
    "print(f\"🧹 LR - After dropping NaNs: {df.shape}\")\n",
    "\n",
    "X = df.drop('Diabetes Status', axis=1)\n",
    "y = df['Diabetes Status']\n",
    "\n",
    "scaler = StandardScaler()\n",
    "X_scaled = scaler.fit_transform(X)\n",
    "\n",
    "print(f\"📊 LR - Final dataset shape after scaling: {X_scaled.shape}\")\n",
    "\n",
    "lr = LogisticRegression(max_iter=80, random_state=42)\n",
    "\n",
    "param_grid = {\n",
    "    'C': [0.01],\n",
    "}\n",
    "\n",
    "kf = KFold(n_splits=5, shuffle=True, random_state=42)\n",
    "grid_search = GridSearchCV(lr, param_grid, scoring='accuracy', cv=kf, n_jobs=-1, verbose=1)\n",
    "\n",
    "grid_search.fit(X_scaled, y)\n",
    "\n",
    "best_lr = grid_search.best_estimator_\n",
    "\n",
    "y_pred = best_lr.predict(X_scaled)\n",
    "\n",
    "print(f\"✅ LR - Best Parameters: {grid_search.best_params_}\")\n",
    "print(f\"✅ LR - K-Fold Mean Accuracy: {grid_search.best_score_:.4f}\")\n",
    "print(\"📌 LR Classification Report:\")\n",
    "print(classification_report(y, y_pred))\n",
    "print(\"🟦 LR Confusion Matrix:\")\n",
    "print(confusion_matrix(y, y_pred))\n"
   ]
  },
  {
   "cell_type": "code",
   "execution_count": 11,
   "metadata": {},
   "outputs": [
    {
     "name": "stdout",
     "output_type": "stream",
     "text": [
      "🧪 LR - Validation dataset shape: (177, 10)\n",
      "📌 LR - Validation Classification Report:\n",
      "              precision    recall  f1-score   support\n",
      "\n",
      "           0       0.79      0.68      0.73        82\n",
      "           1       0.75      0.84      0.80        95\n",
      "\n",
      "    accuracy                           0.77       177\n",
      "   macro avg       0.77      0.76      0.76       177\n",
      "weighted avg       0.77      0.77      0.77       177\n",
      "\n",
      "🟦 LR - Validation Confusion Matrix:\n",
      "[[56 26]\n",
      " [15 80]]\n"
     ]
    }
   ],
   "source": [
    "from sklearn.metrics import classification_report, confusion_matrix\n",
    "\n",
    "valid_path = \"/workspaces/Final-Year-Project/Cleaned Data/ValidationData.csv\"\n",
    "\n",
    "df_valid = pd.read_csv(valid_path)\n",
    "df_valid = df_valid.dropna()\n",
    "\n",
    "X_valid = df_valid.drop('Diabetes Status', axis=1)\n",
    "y_valid = df_valid['Diabetes Status']\n",
    "\n",
    "X_valid_scaled = scaler.transform(X_valid)\n",
    "\n",
    "print(f\"🧪 LR - Validation dataset shape: {X_valid.shape}\")\n",
    "\n",
    "y_pred_valid = best_lr.predict(X_valid_scaled)\n",
    "\n",
    "print(f\"📌 LR - Validation Classification Report:\")\n",
    "print(classification_report(y_valid, y_pred_valid))\n",
    "\n",
    "print(\"🟦 LR - Validation Confusion Matrix:\")\n",
    "print(confusion_matrix(y_valid, y_pred_valid))\n"
   ]
  }
 ],
 "metadata": {
  "kernelspec": {
   "display_name": "Python 3",
   "language": "python",
   "name": "python3"
  },
  "language_info": {
   "codemirror_mode": {
    "name": "ipython",
    "version": 3
   },
   "file_extension": ".py",
   "mimetype": "text/x-python",
   "name": "python",
   "nbconvert_exporter": "python",
   "pygments_lexer": "ipython3",
   "version": "3.12.1"
  }
 },
 "nbformat": 4,
 "nbformat_minor": 2
}
