{
 "cells": [
  {
   "cell_type": "code",
   "execution_count": 8,
   "metadata": {},
   "outputs": [
    {
     "name": "stdout",
     "output_type": "stream",
     "text": [
      "🔍 NN - Original dataset shape: (4242, 13)\n",
      "🧹 NN - After dropping NaNs: (948, 13)\n",
      "📊 NN - Final dataset shape after scaling: (948, 12)\n",
      "✅ NN - K-Fold Mean Accuracy: 0.7975\n",
      "📌 NN Classification Report:\n",
      "              precision    recall  f1-score   support\n",
      "\n",
      "           0       0.99      1.00      1.00       380\n",
      "           1       1.00      0.99      1.00       568\n",
      "\n",
      "    accuracy                           1.00       948\n",
      "   macro avg       1.00      1.00      1.00       948\n",
      "weighted avg       1.00      1.00      1.00       948\n",
      "\n",
      "🟦 NN Confusion Matrix:\n",
      "[[380   0]\n",
      " [  3 565]]\n"
     ]
    }
   ],
   "source": [
    "import pandas as pd\n",
    "from sklearn.model_selection import KFold, cross_val_score\n",
    "from sklearn.preprocessing import StandardScaler\n",
    "from sklearn.neural_network import MLPClassifier\n",
    "from sklearn.metrics import classification_report, confusion_matrix\n",
    "\n",
    "# Load the dataset\n",
    "data_path = '/workspaces/Final-Year-Project/Cleaned Data/TrainTestData.csv'\n",
    "df = pd.read_csv(data_path)\n",
    "\n",
    "print(f\"🔍 NN - Original dataset shape: {df.shape}\")\n",
    "\n",
    "# Drop rows with NaN in any feature column\n",
    "df = df.dropna()\n",
    "\n",
    "print(f\"🧹 NN - After dropping NaNs: {df.shape}\")\n",
    "\n",
    "# Define features and target\n",
    "X = df.drop('Diabetes Status', axis=1)\n",
    "y = df['Diabetes Status']\n",
    "\n",
    "# Standardize the features (important for NN)\n",
    "scaler = StandardScaler()\n",
    "X_scaled = scaler.fit_transform(X)\n",
    "\n",
    "print(f\"📊 NN - Final dataset shape after scaling: {X_scaled.shape}\")\n",
    "\n",
    "# Initialize the Neural Network model with optimized hyperparameters\n",
    "nn = MLPClassifier(\n",
    "    hidden_layer_sizes=(64, 32, 16),  # Gradual reduction in neuron count\n",
    "    activation='relu',\n",
    "    solver='adam',\n",
    "    alpha=0.001,  # L2 regularization to prevent overfitting\n",
    "    max_iter=2000,  # Allow more iterations for convergence\n",
    "    random_state=42\n",
    ")\n",
    "\n",
    "# Set up K-Fold cross-validation\n",
    "kf = KFold(n_splits=5, shuffle=True, random_state=42)\n",
    "\n",
    "# Perform cross-validation using accuracy as the metric\n",
    "nn_kfold_scores = cross_val_score(nn, X_scaled, y, cv=kf, scoring='accuracy')\n",
    "\n",
    "# Fit the model on the full dataset for classification report & confusion matrix\n",
    "nn.fit(X_scaled, y)\n",
    "y_pred = nn.predict(X_scaled)\n",
    "\n",
    "# Print results in the same format as previous models\n",
    "print(f\"✅ NN - K-Fold Mean Accuracy: {nn_kfold_scores.mean():.4f}\")\n",
    "print(\"📌 NN Classification Report:\")\n",
    "print(classification_report(y, y_pred))\n",
    "print(\"🟦 NN Confusion Matrix:\")\n",
    "print(confusion_matrix(y, y_pred))\n"
   ]
  },
  {
   "cell_type": "code",
   "execution_count": 9,
   "metadata": {},
   "outputs": [
    {
     "name": "stdout",
     "output_type": "stream",
     "text": [
      "🧪 NN - Validation dataset shape: (124, 12)\n",
      "📌 NN - Validation Classification Report:\n",
      "              precision    recall  f1-score   support\n",
      "\n",
      "           0       0.78      0.80      0.79        45\n",
      "           1       0.88      0.87      0.88        79\n",
      "\n",
      "    accuracy                           0.85       124\n",
      "   macro avg       0.83      0.84      0.84       124\n",
      "weighted avg       0.85      0.85      0.85       124\n",
      "\n",
      "🟦 NN - Validation Confusion Matrix:\n",
      "[[36  9]\n",
      " [10 69]]\n"
     ]
    }
   ],
   "source": [
    "from sklearn.metrics import classification_report, confusion_matrix\n",
    "\n",
    "# File path for validation data\n",
    "valid_path = \"/workspaces/Final-Year-Project/Cleaned Data/ValidationData.csv\"\n",
    "\n",
    "### 🎯 VALIDATION PHASE ###\n",
    "# Load validation data\n",
    "df_valid = pd.read_csv(valid_path)\n",
    "df_valid = df_valid.dropna()\n",
    "\n",
    "# Define features and target\n",
    "X_valid = df_valid.drop('Diabetes Status', axis=1)\n",
    "y_valid = df_valid['Diabetes Status']\n",
    "\n",
    "# Standardize validation data (using the same scaler from training)\n",
    "X_valid_scaled = scaler.transform(X_valid)\n",
    "\n",
    "print(f\"🧪 NN - Validation dataset shape: {X_valid.shape}\")\n",
    "\n",
    "# Evaluate on validation set\n",
    "y_pred_valid = nn.predict(X_valid_scaled)\n",
    "\n",
    "# Classification Report\n",
    "print(f\"📌 NN - Validation Classification Report:\")\n",
    "print(classification_report(y_valid, y_pred_valid))\n",
    "\n",
    "# Confusion Matrix\n",
    "print(\"🟦 NN - Validation Confusion Matrix:\")\n",
    "print(confusion_matrix(y_valid, y_pred_valid))\n"
   ]
  },
  {
   "cell_type": "code",
   "execution_count": null,
   "metadata": {},
   "outputs": [],
   "source": []
  }
 ],
 "metadata": {
  "kernelspec": {
   "display_name": "Python 3",
   "language": "python",
   "name": "python3"
  },
  "language_info": {
   "codemirror_mode": {
    "name": "ipython",
    "version": 3
   },
   "file_extension": ".py",
   "mimetype": "text/x-python",
   "name": "python",
   "nbconvert_exporter": "python",
   "pygments_lexer": "ipython3",
   "version": "3.12.1"
  }
 },
 "nbformat": 4,
 "nbformat_minor": 2
}
