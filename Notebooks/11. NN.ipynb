{
 "cells": [
  {
   "cell_type": "markdown",
   "metadata": {},
   "source": [
    "**Train Test and Cross Validation**"
   ]
  },
  {
   "cell_type": "code",
   "execution_count": 17,
   "metadata": {},
   "outputs": [
    {
     "name": "stdout",
     "output_type": "stream",
     "text": [
      "🔍 NN - Original dataset shape: (3288, 14)\n",
      "🧹 NN - After dropping NaNs: (3288, 14)\n",
      "📊 NN - Final dataset shape after scaling: (3288, 13)\n",
      "✅ NN - K-Fold Mean Accuracy: 0.7363\n",
      "📌 NN Classification Report:\n",
      "              precision    recall  f1-score   support\n",
      "\n",
      "           0       0.79      0.70      0.74      1636\n",
      "           1       0.73      0.81      0.77      1652\n",
      "\n",
      "    accuracy                           0.76      3288\n",
      "   macro avg       0.76      0.76      0.75      3288\n",
      "weighted avg       0.76      0.76      0.75      3288\n",
      "\n",
      "🟦 NN Confusion Matrix:\n",
      "[[1143  493]\n",
      " [ 310 1342]]\n"
     ]
    }
   ],
   "source": [
    "import pandas as pd\n",
    "from sklearn.model_selection import KFold, cross_val_score\n",
    "from sklearn.preprocessing import StandardScaler\n",
    "from sklearn.neural_network import MLPClassifier\n",
    "from sklearn.metrics import classification_report, confusion_matrix\n",
    "\n",
    "data_path = '/workspaces/Final-Year-Project/Cleaned Data/TrainTestData.csv'\n",
    "df = pd.read_csv(data_path)\n",
    "\n",
    "print(f\"🔍 NN - Original dataset shape: {df.shape}\")\n",
    "\n",
    "df = df.dropna()\n",
    "\n",
    "print(f\"🧹 NN - After dropping NaNs: {df.shape}\")\n",
    "\n",
    "X = df.drop('Diabetes Status', axis=1)\n",
    "y = df['Diabetes Status']\n",
    "\n",
    "scaler = StandardScaler()\n",
    "X_scaled = scaler.fit_transform(X)\n",
    "\n",
    "print(f\"📊 NN - Final dataset shape after scaling: {X_scaled.shape}\")\n",
    "\n",
    "nn = MLPClassifier(\n",
    "    hidden_layer_sizes=(8,6,4),  \n",
    "    max_iter=5000,  \n",
    "    random_state=42\n",
    ")\n",
    "\n",
    "kf = KFold(n_splits=5, shuffle=True, random_state=42)\n",
    "\n",
    "nn_kfold_scores = cross_val_score(nn, X_scaled, y, cv=kf, scoring='accuracy')\n",
    "\n",
    "nn.fit(X_scaled, y)\n",
    "y_pred = nn.predict(X_scaled)\n",
    "\n",
    "print(f\"✅ NN - K-Fold Mean Accuracy: {nn_kfold_scores.mean():.4f}\")\n",
    "print(\"📌 NN Classification Report:\")\n",
    "print(classification_report(y, y_pred))\n",
    "print(\"🟦 NN Confusion Matrix:\")\n",
    "print(confusion_matrix(y, y_pred))\n"
   ]
  },
  {
   "cell_type": "code",
   "execution_count": 18,
   "metadata": {},
   "outputs": [
    {
     "name": "stdout",
     "output_type": "stream",
     "text": [
      "🧪 NN - Validation dataset shape: (366, 13)\n",
      "📌 NN - Validation Classification Report:\n",
      "              precision    recall  f1-score   support\n",
      "\n",
      "           0       0.81      0.63      0.71       191\n",
      "           1       0.67      0.83      0.74       175\n",
      "\n",
      "    accuracy                           0.73       366\n",
      "   macro avg       0.74      0.73      0.73       366\n",
      "weighted avg       0.74      0.73      0.72       366\n",
      "\n",
      "🟦 NN - Validation Confusion Matrix:\n",
      "[[120  71]\n",
      " [ 29 146]]\n"
     ]
    }
   ],
   "source": [
    "from sklearn.metrics import classification_report, confusion_matrix\n",
    "\n",
    "valid_path = \"/workspaces/Final-Year-Project/Cleaned Data/ValidationData.csv\"\n",
    "\n",
    "df_valid = pd.read_csv(valid_path)\n",
    "df_valid = df_valid.dropna()\n",
    "\n",
    "X_valid = df_valid.drop('Diabetes Status', axis=1)\n",
    "y_valid = df_valid['Diabetes Status']\n",
    "\n",
    "X_valid_scaled = scaler.transform(X_valid)\n",
    "\n",
    "print(f\"🧪 NN - Validation dataset shape: {X_valid.shape}\")\n",
    "\n",
    "y_pred_valid = nn.predict(X_valid_scaled)\n",
    "\n",
    "print(f\"📌 NN - Validation Classification Report:\")\n",
    "print(classification_report(y_valid, y_pred_valid))\n",
    "\n",
    "print(\"🟦 NN - Validation Confusion Matrix:\")\n",
    "print(confusion_matrix(y_valid, y_pred_valid))\n"
   ]
  },
  {
   "cell_type": "code",
   "execution_count": null,
   "metadata": {},
   "outputs": [],
   "source": []
  }
 ],
 "metadata": {
  "kernelspec": {
   "display_name": "Python 3",
   "language": "python",
   "name": "python3"
  },
  "language_info": {
   "codemirror_mode": {
    "name": "ipython",
    "version": 3
   },
   "file_extension": ".py",
   "mimetype": "text/x-python",
   "name": "python",
   "nbconvert_exporter": "python",
   "pygments_lexer": "ipython3",
   "version": "3.12.1"
  }
 },
 "nbformat": 4,
 "nbformat_minor": 2
}
