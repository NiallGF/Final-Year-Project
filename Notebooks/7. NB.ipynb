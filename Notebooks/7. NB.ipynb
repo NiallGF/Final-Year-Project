{
 "cells": [
  {
   "cell_type": "markdown",
   "metadata": {},
   "source": [
    "**Train Test and Cross Validation**"
   ]
  },
  {
   "cell_type": "code",
   "execution_count": 4,
   "metadata": {},
   "outputs": [
    {
     "name": "stdout",
     "output_type": "stream",
     "text": [
      "\n",
      "Naïve Bayes (K-fold) Mean Accuracy: 0.6842\n",
      "\n",
      "Naïve Bayes (Splitting) Accuracy: 0.6873\n",
      "Naïve Bayes Classification Report:\n",
      "              precision    recall  f1-score   support\n",
      "\n",
      "           0       0.64      0.60      0.62       144\n",
      "           1       0.72      0.75      0.73       195\n",
      "\n",
      "    accuracy                           0.69       339\n",
      "   macro avg       0.68      0.68      0.68       339\n",
      "weighted avg       0.69      0.69      0.69       339\n",
      "\n",
      "Confusion Matrix:\n",
      "[[ 86  58]\n",
      " [ 48 147]]\n"
     ]
    }
   ],
   "source": [
    "import pandas as pd\n",
    "from sklearn.model_selection import KFold, train_test_split, cross_val_score\n",
    "from sklearn.preprocessing import StandardScaler\n",
    "from sklearn.naive_bayes import GaussianNB\n",
    "from sklearn.metrics import classification_report, confusion_matrix, accuracy_score\n",
    "\n",
    "data_path = '/workspaces/Final-Year-Project/Cleaned Data/TrainTestData.csv'\n",
    "df = pd.read_csv(data_path)\n",
    "\n",
    "df = df.dropna()\n",
    "\n",
    "X = df.drop('Diabetes Status', axis=1)\n",
    "y = df['Diabetes Status']\n",
    "\n",
    "scaler = StandardScaler()\n",
    "X_scaled = scaler.fit_transform(X)\n",
    "\n",
    "nb = GaussianNB()\n",
    "\n",
    "kf = KFold(n_splits=5, shuffle=True, random_state=42)\n",
    "\n",
    "nb_kfold_scores = cross_val_score(nb, X_scaled, y, cv=kf, scoring='accuracy')\n",
    "\n",
    "print(f\"\\nNaïve Bayes (K-fold) Mean Accuracy: {nb_kfold_scores.mean():.4f}\")\n",
    "\n",
    "X_train, X_test, y_train, y_test = train_test_split(X_scaled, y, test_size=0.2, random_state=42)\n",
    "\n",
    "nb.fit(X_train, y_train)\n",
    "y_pred = nb.predict(X_test)\n",
    "\n",
    "print(f\"\\nNaïve Bayes (Splitting) Accuracy: {accuracy_score(y_test, y_pred):.4f}\")\n",
    "print(\"Naïve Bayes Classification Report:\")\n",
    "print(classification_report(y_test, y_pred))\n",
    "print(\"Confusion Matrix:\")\n",
    "print(confusion_matrix(y_test, y_pred))\n"
   ]
  },
  {
   "cell_type": "code",
   "execution_count": 5,
   "metadata": {},
   "outputs": [
    {
     "name": "stdout",
     "output_type": "stream",
     "text": [
      "🧪 NB - Validation dataset shape: (177, 10)\n",
      "📌 NB - Validation Classification Report:\n",
      "              precision    recall  f1-score   support\n",
      "\n",
      "           0       0.76      0.67      0.71        82\n",
      "           1       0.74      0.82      0.78        95\n",
      "\n",
      "    accuracy                           0.75       177\n",
      "   macro avg       0.75      0.75      0.75       177\n",
      "weighted avg       0.75      0.75      0.75       177\n",
      "\n",
      "🟦 NB - Validation Confusion Matrix:\n",
      "[[55 27]\n",
      " [17 78]]\n"
     ]
    }
   ],
   "source": [
    "from sklearn.metrics import classification_report, confusion_matrix\n",
    "\n",
    "valid_path = \"/workspaces/Final-Year-Project/Cleaned Data/ValidationData.csv\"\n",
    "\n",
    "df_valid = pd.read_csv(valid_path)\n",
    "df_valid = df_valid.dropna()\n",
    "\n",
    "X_valid = df_valid.drop('Diabetes Status', axis=1)\n",
    "y_valid = df_valid['Diabetes Status']\n",
    "\n",
    "X_valid_scaled = scaler.transform(X_valid)\n",
    "\n",
    "print(f\"🧪 NB - Validation dataset shape: {X_valid.shape}\")\n",
    "\n",
    "y_pred_valid = nb.predict(X_valid_scaled)\n",
    "\n",
    "print(f\"📌 NB - Validation Classification Report:\")\n",
    "print(classification_report(y_valid, y_pred_valid))\n",
    "\n",
    "print(\"🟦 NB - Validation Confusion Matrix:\")\n",
    "print(confusion_matrix(y_valid, y_pred_valid))\n"
   ]
  }
 ],
 "metadata": {
  "kernelspec": {
   "display_name": "Python 3",
   "language": "python",
   "name": "python3"
  },
  "language_info": {
   "codemirror_mode": {
    "name": "ipython",
    "version": 3
   },
   "file_extension": ".py",
   "mimetype": "text/x-python",
   "name": "python",
   "nbconvert_exporter": "python",
   "pygments_lexer": "ipython3",
   "version": "3.12.1"
  }
 },
 "nbformat": 4,
 "nbformat_minor": 2
}
