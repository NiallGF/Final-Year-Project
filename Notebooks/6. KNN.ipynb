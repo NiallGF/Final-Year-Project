{
 "cells": [
  {
   "cell_type": "markdown",
   "metadata": {},
   "source": [
    "**Train Test and Cross Validation**"
   ]
  },
  {
   "cell_type": "code",
   "execution_count": 10,
   "metadata": {},
   "outputs": [
    {
     "name": "stdout",
     "output_type": "stream",
     "text": [
      "Fitting 5 folds for each of 7 candidates, totalling 35 fits\n"
     ]
    },
    {
     "name": "stdout",
     "output_type": "stream",
     "text": [
      "Best Parameters for KNN: {'n_neighbors': 15}\n",
      "Mean Accuracy with Best Parameters: 0.7322552697266438\n",
      "KNN Classification Report:\n",
      "              precision    recall  f1-score   support\n",
      "\n",
      "           0       0.80      0.70      0.75      1638\n",
      "           1       0.73      0.82      0.78      1630\n",
      "\n",
      "    accuracy                           0.76      3268\n",
      "   macro avg       0.77      0.76      0.76      3268\n",
      "weighted avg       0.77      0.76      0.76      3268\n",
      "\n",
      "Confusion Matrix:\n",
      "[[1148  490]\n",
      " [ 287 1343]]\n"
     ]
    }
   ],
   "source": [
    "import pandas as pd\n",
    "from sklearn.model_selection import KFold, GridSearchCV\n",
    "from sklearn.preprocessing import StandardScaler\n",
    "from sklearn.metrics import classification_report, confusion_matrix\n",
    "from sklearn.neighbors import KNeighborsClassifier\n",
    "\n",
    "data_path = '/workspaces/Final-Year-Project/Cleaned Data/TrainTestData.csv'\n",
    "df = pd.read_csv(data_path)\n",
    "\n",
    "df = df.dropna()\n",
    "\n",
    "X = df.drop('Diabetes Status', axis=1)\n",
    "y = df['Diabetes Status']\n",
    "\n",
    "scaler = StandardScaler()\n",
    "X = scaler.fit_transform(X)\n",
    "\n",
    "knn = KNeighborsClassifier()\n",
    "\n",
    "param_grid = {\n",
    "    'n_neighbors': [3,5,7,9,11,13,15],  \n",
    "}\n",
    "\n",
    "kf = KFold(n_splits=5, shuffle=True, random_state=42)\n",
    "grid_search = GridSearchCV(knn, param_grid, scoring='accuracy', cv=kf, n_jobs=-1, verbose=1)\n",
    "\n",
    "grid_search.fit(X, y)\n",
    "\n",
    "best_knn = grid_search.best_estimator_\n",
    "\n",
    "y_pred = best_knn.predict(X)\n",
    "\n",
    "print(\"Best Parameters for KNN:\", grid_search.best_params_)\n",
    "print(\"Mean Accuracy with Best Parameters:\", grid_search.best_score_)\n",
    "\n",
    "print(\"KNN Classification Report:\")\n",
    "print(classification_report(y, y_pred))\n",
    "print(\"Confusion Matrix:\")\n",
    "print(confusion_matrix(y, y_pred))\n"
   ]
  },
  {
   "cell_type": "code",
   "execution_count": 11,
   "metadata": {},
   "outputs": [
    {
     "name": "stdout",
     "output_type": "stream",
     "text": [
      "🧪 KNN - Validation dataset shape: (364, 13)\n",
      "📌 KNN - Validation Classification Report:\n",
      "              precision    recall  f1-score   support\n",
      "\n",
      "           0       0.74      0.67      0.70       178\n",
      "           1       0.71      0.77      0.74       186\n",
      "\n",
      "    accuracy                           0.72       364\n",
      "   macro avg       0.72      0.72      0.72       364\n",
      "weighted avg       0.72      0.72      0.72       364\n",
      "\n",
      "🟦 KNN - Validation Confusion Matrix:\n",
      "[[120  58]\n",
      " [ 43 143]]\n"
     ]
    }
   ],
   "source": [
    "from sklearn.metrics import classification_report, confusion_matrix\n",
    "\n",
    "valid_path = \"/workspaces/Final-Year-Project/Cleaned Data/ValidationData.csv\"\n",
    "\n",
    "df_valid = pd.read_csv(valid_path)\n",
    "df_valid = df_valid.dropna()\n",
    "\n",
    "X_valid = df_valid.drop('Diabetes Status', axis=1)\n",
    "y_valid = df_valid['Diabetes Status']\n",
    "\n",
    "X_valid_scaled = scaler.transform(X_valid)\n",
    "\n",
    "print(f\"🧪 KNN - Validation dataset shape: {X_valid.shape}\")\n",
    "\n",
    "y_pred_valid = best_knn.predict(X_valid_scaled)\n",
    "\n",
    "print(f\"📌 KNN - Validation Classification Report:\")\n",
    "print(classification_report(y_valid, y_pred_valid))\n",
    "\n",
    "print(\"🟦 KNN - Validation Confusion Matrix:\")\n",
    "print(confusion_matrix(y_valid, y_pred_valid))\n"
   ]
  },
  {
   "cell_type": "markdown",
   "metadata": {},
   "source": [
    "17:\n",
    "\n",
    "🧪 KNN - Validation dataset shape: (159, 10)\n",
    "📌 KNN - Validation Classification Report:\n",
    "              precision    recall  f1-score   support\n",
    "\n",
    "           0       0.75      0.59      0.66        76\n",
    "           1       0.69      0.82      0.75        83\n",
    "\n",
    "    accuracy                           0.71       159\n",
    "   macro avg       0.72      0.71      0.70       159\n",
    "weighted avg       0.72      0.71      0.71       159\n",
    "\n",
    "🟦 KNN - Validation Confusion Matrix:\n",
    "[[45 31]\n",
    " [15 68]]\n",
    "\n",
    "15:\n",
    "\n",
    "🧪 KNN - Validation dataset shape: (159, 10)\n",
    "📌 KNN - Validation Classification Report:\n",
    "              precision    recall  f1-score   support\n",
    "\n",
    "           0       0.75      0.58      0.65        76\n",
    "           1       0.68      0.82      0.74        83\n",
    "\n",
    "    accuracy                           0.70       159\n",
    "   macro avg       0.71      0.70      0.70       159\n",
    "weighted avg       0.71      0.70      0.70       159\n",
    "\n",
    "🟦 KNN - Validation Confusion Matrix:\n",
    "[[44 32]\n",
    " [15 68]]\n"
   ]
  }
 ],
 "metadata": {
  "kernelspec": {
   "display_name": "Python 3",
   "language": "python",
   "name": "python3"
  },
  "language_info": {
   "codemirror_mode": {
    "name": "ipython",
    "version": 3
   },
   "file_extension": ".py",
   "mimetype": "text/x-python",
   "name": "python",
   "nbconvert_exporter": "python",
   "pygments_lexer": "ipython3",
   "version": "3.12.1"
  }
 },
 "nbformat": 4,
 "nbformat_minor": 2
}
