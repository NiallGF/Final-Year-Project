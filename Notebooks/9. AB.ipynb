{
 "cells": [
  {
   "cell_type": "markdown",
   "metadata": {},
   "source": [
    "**Train Test and Cross Validation**"
   ]
  },
  {
   "cell_type": "code",
   "execution_count": 2,
   "metadata": {},
   "outputs": [
    {
     "name": "stdout",
     "output_type": "stream",
     "text": [
      "🔍 AB - Original dataset shape: (2453, 11)\n",
      "🧹 AB - After dropping NaNs: (1691, 11)\n",
      "📊 AB - Final dataset shape after scaling: (1691, 10)\n",
      "✅ AB - K-Fold Mean Accuracy: 0.6842\n",
      "📌 AB Classification Report:\n",
      "              precision    recall  f1-score   support\n",
      "\n",
      "           0       0.68      0.58      0.62       757\n",
      "           1       0.70      0.77      0.73       934\n",
      "\n",
      "    accuracy                           0.69      1691\n",
      "   macro avg       0.69      0.68      0.68      1691\n",
      "weighted avg       0.69      0.69      0.68      1691\n",
      "\n",
      "🟦 AB Confusion Matrix:\n",
      "[[440 317]\n",
      " [211 723]]\n"
     ]
    }
   ],
   "source": [
    "import pandas as pd\n",
    "from sklearn.model_selection import KFold, cross_val_score\n",
    "from sklearn.preprocessing import StandardScaler\n",
    "from sklearn.ensemble import AdaBoostClassifier\n",
    "from sklearn.metrics import classification_report, confusion_matrix\n",
    "\n",
    "data_path = '/workspaces/Final-Year-Project/Cleaned Data/TrainTestData.csv'\n",
    "df = pd.read_csv(data_path)\n",
    "\n",
    "print(f\"🔍 AB - Original dataset shape: {df.shape}\")\n",
    "\n",
    "df = df.dropna()\n",
    "\n",
    "print(f\"🧹 AB - After dropping NaNs: {df.shape}\")\n",
    "\n",
    "X = df.drop('Diabetes Status', axis=1)\n",
    "y = df['Diabetes Status']\n",
    "\n",
    "scaler = StandardScaler()\n",
    "X_scaled = scaler.fit_transform(X)\n",
    "\n",
    "print(f\"📊 AB - Final dataset shape after scaling: {X_scaled.shape}\")\n",
    "\n",
    "ab = AdaBoostClassifier(n_estimators=100, random_state=42)\n",
    "\n",
    "kf = KFold(n_splits=5, shuffle=True, random_state=42)\n",
    "\n",
    "ab_kfold_scores = cross_val_score(ab, X_scaled, y, cv=kf, scoring='accuracy')\n",
    "\n",
    "ab.fit(X_scaled, y)\n",
    "y_pred = ab.predict(X_scaled)\n",
    "\n",
    "print(f\"✅ AB - K-Fold Mean Accuracy: {ab_kfold_scores.mean():.4f}\")\n",
    "print(\"📌 AB Classification Report:\")\n",
    "print(classification_report(y, y_pred))\n",
    "print(\"🟦 AB Confusion Matrix:\")\n",
    "print(confusion_matrix(y, y_pred))\n"
   ]
  },
  {
   "cell_type": "code",
   "execution_count": 3,
   "metadata": {},
   "outputs": [
    {
     "name": "stdout",
     "output_type": "stream",
     "text": [
      "🧪 AB - Validation dataset shape: (177, 10)\n",
      "📌 AB - Validation Classification Report:\n",
      "              precision    recall  f1-score   support\n",
      "\n",
      "           0       0.74      0.67      0.71        82\n",
      "           1       0.74      0.80      0.77        95\n",
      "\n",
      "    accuracy                           0.74       177\n",
      "   macro avg       0.74      0.74      0.74       177\n",
      "weighted avg       0.74      0.74      0.74       177\n",
      "\n",
      "🟦 AB - Validation Confusion Matrix:\n",
      "[[55 27]\n",
      " [19 76]]\n"
     ]
    }
   ],
   "source": [
    "from sklearn.metrics import classification_report, confusion_matrix\n",
    "\n",
    "valid_path = \"/workspaces/Final-Year-Project/Cleaned Data/ValidationData.csv\"\n",
    "\n",
    "df_valid = pd.read_csv(valid_path)\n",
    "df_valid = df_valid.dropna()\n",
    "\n",
    "X_valid = df_valid.drop('Diabetes Status', axis=1)\n",
    "y_valid = df_valid['Diabetes Status']\n",
    "\n",
    "X_valid_scaled = scaler.transform(X_valid)\n",
    "\n",
    "print(f\"🧪 AB - Validation dataset shape: {X_valid.shape}\")\n",
    "\n",
    "y_pred_valid = ab.predict(X_valid_scaled)\n",
    "\n",
    "print(f\"📌 AB - Validation Classification Report:\")\n",
    "print(classification_report(y_valid, y_pred_valid))\n",
    "\n",
    "print(\"🟦 AB - Validation Confusion Matrix:\")\n",
    "print(confusion_matrix(y_valid, y_pred_valid))\n"
   ]
  },
  {
   "cell_type": "code",
   "execution_count": null,
   "metadata": {},
   "outputs": [],
   "source": []
  }
 ],
 "metadata": {
  "kernelspec": {
   "display_name": "Python 3",
   "language": "python",
   "name": "python3"
  },
  "language_info": {
   "codemirror_mode": {
    "name": "ipython",
    "version": 3
   },
   "file_extension": ".py",
   "mimetype": "text/x-python",
   "name": "python",
   "nbconvert_exporter": "python",
   "pygments_lexer": "ipython3",
   "version": "3.12.1"
  }
 },
 "nbformat": 4,
 "nbformat_minor": 2
}
