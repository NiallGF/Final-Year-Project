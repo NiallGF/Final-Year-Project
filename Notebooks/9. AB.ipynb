{
 "cells": [
  {
   "cell_type": "code",
   "execution_count": 8,
   "metadata": {},
   "outputs": [
    {
     "name": "stdout",
     "output_type": "stream",
     "text": [
      "🔍 AB - Original dataset shape: (4435, 10)\n",
      "🧹 AB - After dropping NaNs: (3003, 10)\n",
      "📊 AB - Final dataset shape after scaling: (3003, 9)\n",
      "✅ AB - K-Fold Mean Accuracy: 0.6886\n",
      "📌 AB Classification Report:\n",
      "              precision    recall  f1-score   support\n",
      "\n",
      "           0       0.70      0.55      0.62      1339\n",
      "           1       0.69      0.81      0.75      1664\n",
      "\n",
      "    accuracy                           0.70      3003\n",
      "   macro avg       0.70      0.68      0.68      3003\n",
      "weighted avg       0.70      0.70      0.69      3003\n",
      "\n",
      "🟦 AB Confusion Matrix:\n",
      "[[ 740  599]\n",
      " [ 316 1348]]\n"
     ]
    }
   ],
   "source": [
    "import pandas as pd\n",
    "from sklearn.model_selection import KFold, cross_val_score\n",
    "from sklearn.preprocessing import StandardScaler\n",
    "from sklearn.ensemble import AdaBoostClassifier\n",
    "from sklearn.metrics import classification_report, confusion_matrix\n",
    "\n",
    "# Load the dataset\n",
    "data_path = '/workspaces/Final-Year-Project/Cleaned Data/TrainTestData.csv'\n",
    "df = pd.read_csv(data_path)\n",
    "\n",
    "print(f\"🔍 AB - Original dataset shape: {df.shape}\")\n",
    "\n",
    "# Drop rows with NaN in any feature column\n",
    "df = df.dropna()\n",
    "\n",
    "print(f\"🧹 AB - After dropping NaNs: {df.shape}\")\n",
    "\n",
    "# Define features and target\n",
    "X = df.drop('Diabetes Status', axis=1)\n",
    "y = df['Diabetes Status']\n",
    "\n",
    "# Standardize the features\n",
    "scaler = StandardScaler()\n",
    "X_scaled = scaler.fit_transform(X)\n",
    "\n",
    "print(f\"📊 AB - Final dataset shape after scaling: {X_scaled.shape}\")\n",
    "\n",
    "# Initialize the AdaBoost model\n",
    "ab = AdaBoostClassifier(n_estimators=100, random_state=42)\n",
    "\n",
    "# Set up K-Fold cross-validation\n",
    "kf = KFold(n_splits=5, shuffle=True, random_state=42)\n",
    "\n",
    "# Perform cross-validation using accuracy as the metric\n",
    "ab_kfold_scores = cross_val_score(ab, X_scaled, y, cv=kf, scoring='accuracy')\n",
    "\n",
    "# Fit the model on the full dataset for classification report & confusion matrix\n",
    "ab.fit(X_scaled, y)\n",
    "y_pred = ab.predict(X_scaled)\n",
    "\n",
    "# Print results in the same format as previous models\n",
    "print(f\"✅ AB - K-Fold Mean Accuracy: {ab_kfold_scores.mean():.4f}\")\n",
    "print(\"📌 AB Classification Report:\")\n",
    "print(classification_report(y, y_pred))\n",
    "print(\"🟦 AB Confusion Matrix:\")\n",
    "print(confusion_matrix(y, y_pred))\n"
   ]
  },
  {
   "cell_type": "code",
   "execution_count": 9,
   "metadata": {},
   "outputs": [
    {
     "name": "stdout",
     "output_type": "stream",
     "text": [
      "🧪 AB - Validation dataset shape: (335, 9)\n",
      "📌 AB - Validation Classification Report:\n",
      "              precision    recall  f1-score   support\n",
      "\n",
      "           0       0.66      0.62      0.64       145\n",
      "           1       0.72      0.76      0.74       190\n",
      "\n",
      "    accuracy                           0.70       335\n",
      "   macro avg       0.69      0.69      0.69       335\n",
      "weighted avg       0.70      0.70      0.70       335\n",
      "\n",
      "🟦 AB - Validation Confusion Matrix:\n",
      "[[ 90  55]\n",
      " [ 46 144]]\n"
     ]
    }
   ],
   "source": [
    "from sklearn.metrics import classification_report, confusion_matrix\n",
    "\n",
    "# File path for validation data\n",
    "valid_path = \"/workspaces/Final-Year-Project/Cleaned Data/ValidationData.csv\"\n",
    "\n",
    "### 🎯 VALIDATION PHASE ###\n",
    "# Load validation data\n",
    "df_valid = pd.read_csv(valid_path)\n",
    "df_valid = df_valid.dropna()\n",
    "\n",
    "# Define features and target\n",
    "X_valid = df_valid.drop('Diabetes Status', axis=1)\n",
    "y_valid = df_valid['Diabetes Status']\n",
    "\n",
    "# Standardize validation data (using the same scaler from training)\n",
    "X_valid_scaled = scaler.transform(X_valid)\n",
    "\n",
    "print(f\"🧪 AB - Validation dataset shape: {X_valid.shape}\")\n",
    "\n",
    "# Evaluate on validation set\n",
    "y_pred_valid = ab.predict(X_valid_scaled)\n",
    "\n",
    "# Classification Report\n",
    "print(f\"📌 AB - Validation Classification Report:\")\n",
    "print(classification_report(y_valid, y_pred_valid))\n",
    "\n",
    "# Confusion Matrix\n",
    "print(\"🟦 AB - Validation Confusion Matrix:\")\n",
    "print(confusion_matrix(y_valid, y_pred_valid))\n"
   ]
  },
  {
   "cell_type": "code",
   "execution_count": null,
   "metadata": {},
   "outputs": [],
   "source": []
  }
 ],
 "metadata": {
  "kernelspec": {
   "display_name": "Python 3",
   "language": "python",
   "name": "python3"
  },
  "language_info": {
   "codemirror_mode": {
    "name": "ipython",
    "version": 3
   },
   "file_extension": ".py",
   "mimetype": "text/x-python",
   "name": "python",
   "nbconvert_exporter": "python",
   "pygments_lexer": "ipython3",
   "version": "3.12.1"
  }
 },
 "nbformat": 4,
 "nbformat_minor": 2
}
