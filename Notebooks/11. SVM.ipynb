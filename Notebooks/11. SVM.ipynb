{
 "cells": [
  {
   "cell_type": "markdown",
   "metadata": {},
   "source": [
    "**Train Test and Cross Validation**"
   ]
  },
  {
   "cell_type": "code",
   "execution_count": 1,
   "metadata": {},
   "outputs": [
    {
     "name": "stdout",
     "output_type": "stream",
     "text": [
      "🔍 SVM - Original dataset shape: (3268, 14)\n",
      "🧹 SVM - After dropping NaNs: (3268, 14)\n",
      "📊 SVM - Final dataset shape after scaling: (3268, 13)\n",
      "✅ SVM - K-Fold Mean Accuracy: 0.7423\n",
      "📌 SVM Classification Report:\n",
      "              precision    recall  f1-score   support\n",
      "\n",
      "           0       0.83      0.68      0.75      1638\n",
      "           1       0.73      0.86      0.79      1630\n",
      "\n",
      "    accuracy                           0.77      3268\n",
      "   macro avg       0.78      0.77      0.77      3268\n",
      "weighted avg       0.78      0.77      0.77      3268\n",
      "\n",
      "🟦 SVM Confusion Matrix:\n",
      "[[1111  527]\n",
      " [ 226 1404]]\n"
     ]
    }
   ],
   "source": [
    "import pandas as pd\n",
    "from sklearn.model_selection import KFold, cross_val_score\n",
    "from sklearn.preprocessing import StandardScaler\n",
    "from sklearn.svm import SVC\n",
    "from sklearn.metrics import classification_report, confusion_matrix\n",
    "\n",
    "data_path = '/workspaces/Final-Year-Project/Cleaned Data/TrainTestData.csv'\n",
    "df = pd.read_csv(data_path)\n",
    "\n",
    "print(f\"🔍 SVM - Original dataset shape: {df.shape}\")\n",
    "\n",
    "df = df.dropna()\n",
    "\n",
    "print(f\"🧹 SVM - After dropping NaNs: {df.shape}\")\n",
    "\n",
    "X = df.drop('Diabetes Status', axis=1)\n",
    "y = df['Diabetes Status']\n",
    "\n",
    "scaler = StandardScaler()\n",
    "X_scaled = scaler.fit_transform(X)\n",
    "\n",
    "print(f\"📊 SVM - Final dataset shape after scaling: {X_scaled.shape}\")\n",
    "\n",
    "svm = SVC(kernel='rbf', C=1.0, gamma='scale', random_state=42)\n",
    "\n",
    "kf = KFold(n_splits=5, shuffle=True, random_state=42)\n",
    "\n",
    "svm_kfold_scores = cross_val_score(svm, X_scaled, y, cv=kf, scoring='accuracy')\n",
    "\n",
    "svm.fit(X_scaled, y)\n",
    "y_pred = svm.predict(X_scaled)\n",
    "\n",
    "print(f\"✅ SVM - K-Fold Mean Accuracy: {svm_kfold_scores.mean():.4f}\")\n",
    "print(\"📌 SVM Classification Report:\")\n",
    "print(classification_report(y, y_pred))\n",
    "print(\"🟦 SVM Confusion Matrix:\")\n",
    "print(confusion_matrix(y, y_pred))\n"
   ]
  },
  {
   "cell_type": "code",
   "execution_count": 2,
   "metadata": {},
   "outputs": [
    {
     "name": "stdout",
     "output_type": "stream",
     "text": [
      "Fitting 5 folds for each of 1 candidates, totalling 5 fits\n"
     ]
    },
    {
     "name": "stdout",
     "output_type": "stream",
     "text": [
      "[CV] END ...........................................C=0.0001; total time=   0.7s\n",
      "[CV] END ...........................................C=0.0001; total time=   0.8s\n",
      "[CV] END ...........................................C=0.0001; total time=   0.7s\n",
      "[CV] END ...........................................C=0.0001; total time=   0.9s\n",
      "[CV] END ...........................................C=0.0001; total time=   0.5s\n",
      "Best Parameters: {'C': 0.0001}\n",
      "Best Cross-Validation Accuracy: 0.4902\n"
     ]
    }
   ],
   "source": [
    "from sklearn.model_selection import GridSearchCV\n",
    "\n",
    "param_grid = {\n",
    "    'C': [0.0001],\n",
    "}\n",
    "\n",
    "grid_search = GridSearchCV(SVC(), param_grid, cv=kf, n_jobs=-1, verbose=2, scoring='accuracy')\n",
    "grid_search.fit(X_scaled, y)\n",
    "\n",
    "print(f\"Best Parameters: {grid_search.best_params_}\")\n",
    "print(f\"Best Cross-Validation Accuracy: {grid_search.best_score_:.4f}\")\n"
   ]
  },
  {
   "cell_type": "code",
   "execution_count": 3,
   "metadata": {},
   "outputs": [
    {
     "name": "stdout",
     "output_type": "stream",
     "text": [
      "🧪 SVM - Validation dataset shape: (364, 13)\n",
      "📌 SVM - Validation Classification Report:\n",
      "              precision    recall  f1-score   support\n",
      "\n",
      "           0       0.80      0.66      0.73       178\n",
      "           1       0.72      0.84      0.78       186\n",
      "\n",
      "    accuracy                           0.76       364\n",
      "   macro avg       0.76      0.75      0.75       364\n",
      "weighted avg       0.76      0.76      0.75       364\n",
      "\n",
      "🟦 SVM - Validation Confusion Matrix:\n",
      "[[118  60]\n",
      " [ 29 157]]\n"
     ]
    }
   ],
   "source": [
    "from sklearn.metrics import classification_report, confusion_matrix\n",
    "\n",
    "valid_path = \"/workspaces/Final-Year-Project/Cleaned Data/ValidationData.csv\"\n",
    "\n",
    "df_valid = pd.read_csv(valid_path)\n",
    "df_valid = df_valid.dropna()\n",
    "\n",
    "X_valid = df_valid.drop('Diabetes Status', axis=1)\n",
    "y_valid = df_valid['Diabetes Status']\n",
    "\n",
    "X_valid_scaled = scaler.transform(X_valid)\n",
    "\n",
    "print(f\"🧪 SVM - Validation dataset shape: {X_valid.shape}\")\n",
    "\n",
    "y_pred_valid = svm.predict(X_valid_scaled)\n",
    "\n",
    "print(f\"📌 SVM - Validation Classification Report:\")\n",
    "print(classification_report(y_valid, y_pred_valid))\n",
    "\n",
    "print(\"🟦 SVM - Validation Confusion Matrix:\")\n",
    "print(confusion_matrix(y_valid, y_pred_valid))\n"
   ]
  },
  {
   "cell_type": "code",
   "execution_count": null,
   "metadata": {},
   "outputs": [],
   "source": []
  }
 ],
 "metadata": {
  "kernelspec": {
   "display_name": "Python 3",
   "language": "python",
   "name": "python3"
  },
  "language_info": {
   "codemirror_mode": {
    "name": "ipython",
    "version": 3
   },
   "file_extension": ".py",
   "mimetype": "text/x-python",
   "name": "python",
   "nbconvert_exporter": "python",
   "pygments_lexer": "ipython3",
   "version": "3.12.1"
  }
 },
 "nbformat": 4,
 "nbformat_minor": 2
}
