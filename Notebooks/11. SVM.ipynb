{
 "cells": [
  {
   "cell_type": "code",
   "execution_count": 13,
   "metadata": {},
   "outputs": [],
   "source": [
    "import pandas as pd\n",
    "from sklearn.model_selection import KFold, cross_val_score, GridSearchCV\n",
    "from sklearn.preprocessing import StandardScaler\n",
    "from sklearn.svm import SVC\n",
    "from sklearn.metrics import classification_report, confusion_matrix, f1_score\n"
   ]
  },
  {
   "cell_type": "code",
   "execution_count": 14,
   "metadata": {},
   "outputs": [
    {
     "name": "stdout",
     "output_type": "stream",
     "text": [
      "🔍 SVM - Original dataset shape: (3268, 14)\n",
      "🧹 SVM - After dropping NaNs: (3268, 14)\n"
     ]
    }
   ],
   "source": [
    "# Load training data\n",
    "data_path = '/workspaces/Final-Year-Project/Cleaned Data/TrainTestData.csv'\n",
    "df = pd.read_csv(data_path)\n",
    "\n",
    "# Display the original shape of the dataset\n",
    "print(f\"🔍 SVM - Original dataset shape: {df.shape}\")\n",
    "\n",
    "# Drop missing values\n",
    "df = df.dropna()\n",
    "\n",
    "# Display the shape after dropping NaNs\n",
    "print(f\"🧹 SVM - After dropping NaNs: {df.shape}\")\n",
    "\n",
    "# Features and target variable\n",
    "X = df.drop('Diabetes Status', axis=1)\n",
    "y = df['Diabetes Status']\n"
   ]
  },
  {
   "cell_type": "code",
   "execution_count": 15,
   "metadata": {},
   "outputs": [
    {
     "name": "stdout",
     "output_type": "stream",
     "text": [
      "📊 SVM - Final dataset shape after scaling: (3268, 13)\n"
     ]
    }
   ],
   "source": [
    "# Feature scaling\n",
    "scaler = StandardScaler()\n",
    "X_scaled = scaler.fit_transform(X)\n",
    "\n",
    "# Display the shape after scaling\n",
    "print(f\"📊 SVM - Final dataset shape after scaling: {X_scaled.shape}\")\n"
   ]
  },
  {
   "cell_type": "code",
   "execution_count": 16,
   "metadata": {},
   "outputs": [
    {
     "name": "stdout",
     "output_type": "stream",
     "text": [
      "✅ SVM - K-Fold Mean Accuracy: 0.7423\n"
     ]
    }
   ],
   "source": [
    "# SVM Classifier setup\n",
    "svm = SVC(kernel='rbf', C=1.0, gamma='scale', random_state=42)\n",
    "\n",
    "# KFold cross-validation setup\n",
    "kf = KFold(n_splits=5, shuffle=True, random_state=42)\n",
    "\n",
    "# Perform cross-validation and get the accuracy scores\n",
    "svm_kfold_scores = cross_val_score(svm, X_scaled, y, cv=kf, scoring='accuracy')\n",
    "\n",
    "# Print the K-Fold Mean Accuracy\n",
    "print(f\"✅ SVM - K-Fold Mean Accuracy: {svm_kfold_scores.mean():.4f}\")\n"
   ]
  },
  {
   "cell_type": "code",
   "execution_count": 17,
   "metadata": {},
   "outputs": [
    {
     "name": "stdout",
     "output_type": "stream",
     "text": [
      "📌 SVM Classification Report on Training Data:\n",
      "              precision    recall  f1-score   support\n",
      "\n",
      "           0       0.83      0.68      0.75      1638\n",
      "           1       0.73      0.86      0.79      1630\n",
      "\n",
      "    accuracy                           0.77      3268\n",
      "   macro avg       0.78      0.77      0.77      3268\n",
      "weighted avg       0.78      0.77      0.77      3268\n",
      "\n",
      "🟦 SVM - Confusion Matrix on Training Data:\n",
      "[[1111  527]\n",
      " [ 226 1404]]\n"
     ]
    }
   ],
   "source": [
    "# Fit SVM model on the training data\n",
    "svm.fit(X_scaled, y)\n",
    "\n",
    "# Predictions on training data\n",
    "y_pred = svm.predict(X_scaled)\n",
    "\n",
    "# Classification report on the training data\n",
    "print(\"📌 SVM Classification Report on Training Data:\")\n",
    "print(classification_report(y, y_pred))\n",
    "\n",
    "# Confusion matrix on the training data\n",
    "print(\"🟦 SVM - Confusion Matrix on Training Data:\")\n",
    "print(confusion_matrix(y, y_pred))\n"
   ]
  },
  {
   "cell_type": "code",
   "execution_count": 18,
   "metadata": {},
   "outputs": [
    {
     "name": "stdout",
     "output_type": "stream",
     "text": [
      "Fitting 5 folds for each of 12 candidates, totalling 60 fits\n",
      "[CV] END ...............................C=0.0001, kernel=rbf; total time=   0.6s\n",
      "[CV] END ...............................C=0.0001, kernel=rbf; total time=   0.6s\n",
      "[CV] END ...............................C=0.0001, kernel=rbf; total time=   0.5s\n",
      "[CV] END ...............................C=0.0001, kernel=rbf; total time=   0.6s\n",
      "[CV] END ............................C=0.0001, kernel=linear; total time=   0.3s\n",
      "[CV] END ...............................C=0.0001, kernel=rbf; total time=   0.5s\n",
      "[CV] END ............................C=0.0001, kernel=linear; total time=   0.3s\n",
      "[CV] END ............................C=0.0001, kernel=linear; total time=   0.4s\n",
      "[CV] END ............................C=0.0001, kernel=linear; total time=   0.3s\n",
      "[CV] END ............................C=0.0001, kernel=linear; total time=   0.3s\n",
      "[CV] END ................................C=0.001, kernel=rbf; total time=   0.5s\n",
      "[CV] END ................................C=0.001, kernel=rbf; total time=   0.5s\n",
      "[CV] END ................................C=0.001, kernel=rbf; total time=   0.5s\n",
      "[CV] END ................................C=0.001, kernel=rbf; total time=   0.5s\n",
      "[CV] END .............................C=0.001, kernel=linear; total time=   0.2s\n",
      "[CV] END ................................C=0.001, kernel=rbf; total time=   0.5s\n",
      "[CV] END .............................C=0.001, kernel=linear; total time=   0.2s\n",
      "[CV] END .............................C=0.001, kernel=linear; total time=   0.3s\n",
      "[CV] END .............................C=0.001, kernel=linear; total time=   0.3s\n",
      "[CV] END .............................C=0.001, kernel=linear; total time=   0.2s\n",
      "[CV] END .................................C=0.01, kernel=rbf; total time=   0.5s\n",
      "[CV] END .................................C=0.01, kernel=rbf; total time=   0.5s\n",
      "[CV] END .................................C=0.01, kernel=rbf; total time=   0.4s\n",
      "[CV] END .................................C=0.01, kernel=rbf; total time=   0.4s\n",
      "[CV] END ..............................C=0.01, kernel=linear; total time=   0.2s\n",
      "[CV] END .................................C=0.01, kernel=rbf; total time=   0.5s\n",
      "[CV] END ..............................C=0.01, kernel=linear; total time=   0.2s\n",
      "[CV] END ..............................C=0.01, kernel=linear; total time=   0.2s\n",
      "[CV] END ..............................C=0.01, kernel=linear; total time=   0.2s\n",
      "[CV] END ..............................C=0.01, kernel=linear; total time=   0.3s\n",
      "[CV] END ..................................C=0.1, kernel=rbf; total time=   0.4s\n",
      "[CV] END ..................................C=0.1, kernel=rbf; total time=   0.4s\n",
      "[CV] END ..................................C=0.1, kernel=rbf; total time=   0.3s\n",
      "[CV] END ..................................C=0.1, kernel=rbf; total time=   0.3s\n",
      "[CV] END ...............................C=0.1, kernel=linear; total time=   0.2s\n",
      "[CV] END ..................................C=0.1, kernel=rbf; total time=   0.3s\n",
      "[CV] END ...............................C=0.1, kernel=linear; total time=   0.2s\n",
      "[CV] END ...............................C=0.1, kernel=linear; total time=   0.2s\n",
      "[CV] END ...............................C=0.1, kernel=linear; total time=   0.2s\n",
      "[CV] END ...............................C=0.1, kernel=linear; total time=   0.2s\n",
      "[CV] END ..................................C=1.0, kernel=rbf; total time=   0.3s\n",
      "[CV] END ..................................C=1.0, kernel=rbf; total time=   0.4s\n",
      "[CV] END ..................................C=1.0, kernel=rbf; total time=   0.4s\n",
      "[CV] END ..................................C=1.0, kernel=rbf; total time=   0.4s\n",
      "[CV] END ..................................C=1.0, kernel=rbf; total time=   0.4s\n",
      "[CV] END ...............................C=1.0, kernel=linear; total time=   0.4s\n",
      "[CV] END ...............................C=1.0, kernel=linear; total time=   0.4s\n",
      "[CV] END ...............................C=1.0, kernel=linear; total time=   0.3s\n",
      "[CV] END ...............................C=1.0, kernel=linear; total time=   0.4s\n",
      "[CV] END ...............................C=1.0, kernel=linear; total time=   0.4s\n",
      "[CV] END .................................C=10.0, kernel=rbf; total time=   0.5s\n",
      "[CV] END .................................C=10.0, kernel=rbf; total time=   0.6s\n",
      "[CV] END .................................C=10.0, kernel=rbf; total time=   0.5s\n",
      "[CV] END .................................C=10.0, kernel=rbf; total time=   0.6s\n",
      "[CV] END .................................C=10.0, kernel=rbf; total time=   0.5s\n",
      "[CV] END ..............................C=10.0, kernel=linear; total time=   1.1s\n",
      "[CV] END ..............................C=10.0, kernel=linear; total time=   1.1s\n",
      "[CV] END ..............................C=10.0, kernel=linear; total time=   1.0s\n",
      "[CV] END ..............................C=10.0, kernel=linear; total time=   1.0s\n",
      "[CV] END ..............................C=10.0, kernel=linear; total time=   0.8s\n",
      "Best Parameters: {'C': 0.01, 'kernel': 'linear'}\n",
      "Best Cross-Validation Accuracy: 0.7457\n"
     ]
    }
   ],
   "source": [
    "# Hyperparameter grid for GridSearchCV\n",
    "param_grid = {\n",
    "    'C': [0.0001, 0.001, 0.01, 0.1, 1.0, 10.0],\n",
    "    'kernel': ['rbf', 'linear']\n",
    "}\n",
    "\n",
    "# GridSearchCV setup with accuracy as the scoring parameter\n",
    "grid_search = GridSearchCV(SVC(), param_grid, cv=kf, n_jobs=-1, verbose=2, scoring='accuracy')\n",
    "\n",
    "# Fit GridSearchCV on the training data\n",
    "grid_search.fit(X_scaled, y)\n",
    "\n",
    "# Print the best parameters and the best score from GridSearchCV\n",
    "print(f\"Best Parameters: {grid_search.best_params_}\")\n",
    "print(f\"Best Cross-Validation Accuracy: {grid_search.best_score_:.4f}\")\n"
   ]
  },
  {
   "cell_type": "code",
   "execution_count": 19,
   "metadata": {},
   "outputs": [
    {
     "name": "stdout",
     "output_type": "stream",
     "text": [
      "🧪 SVM - Validation dataset shape: (364, 13)\n"
     ]
    }
   ],
   "source": [
    "# Load validation data\n",
    "valid_path = \"/workspaces/Final-Year-Project/Cleaned Data/ValidationData.csv\"\n",
    "df_valid = pd.read_csv(valid_path)\n",
    "\n",
    "# Drop any rows with missing values in the validation set\n",
    "df_valid = df_valid.dropna()\n",
    "\n",
    "# Prepare features and target for validation data\n",
    "X_valid = df_valid.drop('Diabetes Status', axis=1)\n",
    "y_valid = df_valid['Diabetes Status']\n",
    "\n",
    "# Scale the validation data using the previously fitted scaler\n",
    "X_valid_scaled = scaler.transform(X_valid)\n",
    "\n",
    "# Display the shape of the validation dataset\n",
    "print(f\"🧪 SVM - Validation dataset shape: {X_valid.shape}\")\n"
   ]
  },
  {
   "cell_type": "code",
   "execution_count": 20,
   "metadata": {},
   "outputs": [],
   "source": [
    "# Predictions on validation data\n",
    "y_pred_valid = svm.predict(X_valid_scaled)\n"
   ]
  },
  {
   "cell_type": "code",
   "execution_count": 21,
   "metadata": {},
   "outputs": [
    {
     "name": "stdout",
     "output_type": "stream",
     "text": [
      "📌 SVM (Best Params) - Validation Classification Report:\n",
      "              precision    recall  f1-score   support\n",
      "\n",
      "           0       0.82      0.66      0.73       178\n",
      "           1       0.73      0.87      0.79       186\n",
      "\n",
      "    accuracy                           0.76       364\n",
      "   macro avg       0.77      0.76      0.76       364\n",
      "weighted avg       0.77      0.76      0.76       364\n",
      "\n",
      "🟦 SVM (Best Params) - Validation Confusion Matrix:\n",
      "[[117  61]\n",
      " [ 25 161]]\n"
     ]
    }
   ],
   "source": [
    "# %%\n",
    "# Use the best model from GridSearchCV for predictions\n",
    "best_svm = grid_search.best_estimator_\n",
    "\n",
    "# Predictions on validation data using best model\n",
    "y_pred_valid = best_svm.predict(X_valid_scaled)\n",
    "\n",
    "# Print classification report for validation data\n",
    "print(f\"📌 SVM (Best Params) - Validation Classification Report:\")\n",
    "print(classification_report(y_valid, y_pred_valid))\n",
    "\n",
    "# Print confusion matrix for validation data\n",
    "print(\"🟦 SVM (Best Params) - Validation Confusion Matrix:\")\n",
    "print(confusion_matrix(y_valid, y_pred_valid))\n",
    "\n"
   ]
  },
  {
   "cell_type": "code",
   "execution_count": 22,
   "metadata": {},
   "outputs": [
    {
     "name": "stdout",
     "output_type": "stream",
     "text": [
      "                                Model  Precision    Recall  F1-Score  Accuracy\n",
      "0                       AdaBoost (AB)   0.767212  0.752747  0.748389  0.752747\n",
      "1                  Neural Network(NN)   0.762241  0.755495  0.753238  0.755495\n",
      "2                   Decision Tree(DT)   0.748498  0.741758  0.739233  0.741758\n",
      "3   K Nearest Nearest Neighbours(KNN)   0.723548  0.722527  0.721802  0.722527\n",
      "4                  Neural Network(NN)   0.775001  0.769231  0.767458  0.769231\n",
      "5                   Decision Tree(DT)   0.748498  0.741758  0.739233  0.741758\n",
      "6   K Nearest Nearest Neighbours(KNN)   0.723548  0.722527  0.721802  0.722527\n",
      "7            Logistic Regression (LR)   0.759684  0.755495  0.753959  0.755495\n",
      "8            Logistic Regression (LR)   0.759684  0.755495  0.753959  0.755495\n",
      "9            Logistic Regression (LR)   0.759684  0.755495  0.753959  0.755495\n",
      "10                  Random Forest(RF)   0.744664  0.741758  0.740463  0.741758\n",
      "11                  Random Forest(RF)   0.748448  0.744505  0.742901  0.744505\n",
      "12        Support Vecotr Machine(SVM)   0.762241  0.755495  0.753238  0.755495\n",
      "13        Support Vecotr Machine(SVM)   0.765468  0.755495  0.752374  0.755495\n",
      "14        Support Vecotr Machine(SVM)   0.773500  0.763736  0.760870  0.763736\n"
     ]
    }
   ],
   "source": [
    "import pandas as pd\n",
    "from sklearn.metrics import classification_report\n",
    "\n",
    "# Assuming you already have y_valid (true labels) and y_pred_valid (predicted labels)\n",
    "# Example classification report for AdaBoost (AB)\n",
    "report = classification_report(y_valid, y_pred_valid, output_dict=True)\n",
    "\n",
    "# Extract weighted scores\n",
    "weighted_precision = report['weighted avg']['precision']\n",
    "weighted_recall = report['weighted avg']['recall']\n",
    "weighted_f1 = report['weighted avg']['f1-score']\n",
    "accuracy = report['accuracy']\n",
    "\n",
    "# Create a dictionary with the scores\n",
    "ab_results = {\n",
    "    'Model': 'Support Vecotr Machine(SVM)',\n",
    "    'Precision': weighted_precision,\n",
    "    'Recall': weighted_recall,\n",
    "    'F1-Score': weighted_f1,\n",
    "    'Accuracy': accuracy\n",
    "}\n",
    "\n",
    "# Convert the dictionary to a DataFrame\n",
    "ab_df = pd.DataFrame([ab_results])\n",
    "\n",
    "# Create a DataFrame to store results (if not already created)\n",
    "results_df = pd.read_csv(\"/workspaces/Final-Year-Project/Results/model_results.csv\")\n",
    "\n",
    "# Concatenate the new row to the DataFrame\n",
    "results_df = pd.concat([results_df, ab_df], ignore_index=True)\n",
    "\n",
    "# Print the DataFrame to confirm it's added\n",
    "print(results_df)\n",
    "\n",
    "# Save the DataFrame to a CSV file\n",
    "results_df.to_csv(\"/workspaces/Final-Year-Project/Results/model_results.csv\", index=False)\n"
   ]
  },
  {
   "cell_type": "code",
   "execution_count": 23,
   "metadata": {},
   "outputs": [
    {
     "name": "stdout",
     "output_type": "stream",
     "text": [
      "🏆 Best Model Validation F1-Score: 0.7602328431372549\n"
     ]
    }
   ],
   "source": [
    "# Recalculate Macro average F1-score on validation data\n",
    "validation_f1_macro = f1_score(y_valid, y_pred_valid, average='macro')\n",
    "print(f\"🏆 Best Model Validation F1-Score: {validation_f1_macro}\")\n"
   ]
  }
 ],
 "metadata": {
  "kernelspec": {
   "display_name": "Python 3",
   "language": "python",
   "name": "python3"
  },
  "language_info": {
   "codemirror_mode": {
    "name": "ipython",
    "version": 3
   },
   "file_extension": ".py",
   "mimetype": "text/x-python",
   "name": "python",
   "nbconvert_exporter": "python",
   "pygments_lexer": "ipython3",
   "version": "3.12.1"
  }
 },
 "nbformat": 4,
 "nbformat_minor": 2
}
