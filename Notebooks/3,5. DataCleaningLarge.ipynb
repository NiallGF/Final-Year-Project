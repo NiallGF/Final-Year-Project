{
 "cells": [
  {
   "cell_type": "code",
   "execution_count": 32,
   "metadata": {},
   "outputs": [
    {
     "name": "stdout",
     "output_type": "stream",
     "text": [
      "<class 'pandas.core.frame.DataFrame'>\n",
      "RangeIndex: 11933 entries, 0 to 11932\n",
      "Columns: 302 entries, SEQN to RHQ332\n",
      "dtypes: float64(294), object(8)\n",
      "memory usage: 27.5+ MB\n"
     ]
    }
   ],
   "source": [
    "import os\n",
    "import pandas as pd\n",
    "import matplotlib.pyplot as plt\n",
    "import seaborn as sns\n",
    "\n",
    "# Define data directory\n",
    "data_dir_1 = '/workspaces/Final-Year-Project/Data/2023/'\n",
    "\n",
    "# List all files in the directory\n",
    "file_list = os.listdir(data_dir_1)\n",
    "\n",
    "# Filter out non-SAS files if needed (only include .XPT and .xpt files)\n",
    "sas_files = [file for file in file_list if file.endswith('.XPT') or file.endswith('.xpt')]\n",
    "\n",
    "# Create a dictionary to hold the dataframes\n",
    "data_frames = {}\n",
    "\n",
    "# Loop through each file and read them\n",
    "for file_name in sas_files:\n",
    "    file_path = os.path.join(data_dir_1, file_name)\n",
    "    \n",
    "    # Read the SAS file\n",
    "    df = pd.read_sas(file_path, format='xport', encoding='iso-8859-1')\n",
    "    \n",
    "    # Add the dataframe to the dictionary with the file name as the key\n",
    "    data_frames[file_name] = df\n",
    "\n",
    "# Merge all dataframes on the 'SEQN' (common identifier)\n",
    "merged_df = data_frames[sas_files[0]]  # Start with the first dataset\n",
    "\n",
    "for file_name in sas_files[1:]:  # Skip the first file as it's already merged\n",
    "    merged_df = pd.merge(merged_df, data_frames[file_name], on='SEQN', how='outer')  # Merge based on SEQN\n",
    "\n",
    "# Display info about the merged dataset\n",
    "merged_df.info()\n"
   ]
  },
  {
   "cell_type": "code",
   "execution_count": 33,
   "metadata": {},
   "outputs": [
    {
     "name": "stdout",
     "output_type": "stream",
     "text": [
      "<class 'pandas.core.frame.DataFrame'>\n",
      "RangeIndex: 11933 entries, 0 to 11932\n",
      "Columns: 294 entries, SEQN to RHQ332\n",
      "dtypes: float64(294)\n",
      "memory usage: 26.8 MB\n"
     ]
    }
   ],
   "source": [
    "# Keep only float columns\n",
    "df_float = merged_df.select_dtypes(include=['float64'])\n",
    "\n",
    "merged_df_cleaned = df_float\n",
    "merged_df_cleaned.info()\n"
   ]
  },
  {
   "cell_type": "code",
   "execution_count": 34,
   "metadata": {},
   "outputs": [
    {
     "name": "stdout",
     "output_type": "stream",
     "text": [
      "<class 'pandas.core.frame.DataFrame'>\n",
      "Index: 6717 entries, 0 to 11932\n",
      "Columns: 301 entries, SEQN to Diabetes Status\n",
      "dtypes: float64(292), int64(1), object(8)\n",
      "memory usage: 15.5+ MB\n"
     ]
    },
    {
     "name": "stderr",
     "output_type": "stream",
     "text": [
      "/tmp/ipykernel_4201/1395552013.py:12: SettingWithCopyWarning: \n",
      "A value is trying to be set on a copy of a slice from a DataFrame.\n",
      "Try using .loc[row_indexer,col_indexer] = value instead\n",
      "\n",
      "See the caveats in the documentation: https://pandas.pydata.org/pandas-docs/stable/user_guide/indexing.html#returning-a-view-versus-a-copy\n",
      "  merged_df_cleaned['Diabetes Status'] = merged_df_cleaned.apply(categorize_diabetes, axis=1)\n"
     ]
    }
   ],
   "source": [
    "merged_df_cleaned = merged_df.dropna(subset=['LBXGH', 'LBXGLU'], how='all')\n",
    "\n",
    "def categorize_diabetes(row):\n",
    "    if (pd.notnull(row['LBXGH']) and row['LBXGH'] >= 6.5) or (pd.notnull(row['LBXGLU']) and row['LBXGLU'] >= 126):\n",
    "        return 2\n",
    "    \n",
    "    elif (pd.notnull(row['LBXGH']) and 5.7 <= row['LBXGH'] < 6.5) or (pd.notnull(row['LBXGLU']) and 100 <= row['LBXGLU'] < 126):\n",
    "        return 1\n",
    "    else:\n",
    "        return 0\n",
    "\n",
    "merged_df_cleaned['Diabetes Status'] = merged_df_cleaned.apply(categorize_diabetes, axis=1)\n",
    "\n",
    "merged_df_cleaned = merged_df_cleaned.drop(columns=['LBXGH', 'LBXGLU'])\n",
    "\n",
    "df = merged_df_cleaned\n",
    "df.info()\n",
    "\n"
   ]
  },
  {
   "cell_type": "code",
   "execution_count": 38,
   "metadata": {},
   "outputs": [
    {
     "name": "stdout",
     "output_type": "stream",
     "text": [
      "<class 'pandas.core.frame.DataFrame'>\n",
      "RangeIndex: 11933 entries, 0 to 11932\n",
      "Columns: 294 entries, SEQN to RHQ332\n",
      "dtypes: float64(294)\n",
      "memory usage: 26.8 MB\n"
     ]
    }
   ],
   "source": [
    "# Keep only float columns\n",
    "df_float = merged_df.select_dtypes(include=['float64'])\n",
    "\n",
    "df = df_float\n",
    "\n",
    "df.info()"
   ]
  },
  {
   "cell_type": "code",
   "execution_count": 35,
   "metadata": {},
   "outputs": [
    {
     "name": "stdout",
     "output_type": "stream",
     "text": [
      "<class 'pandas.core.frame.DataFrame'>\n",
      "Index: 4446 entries, 0 to 11932\n",
      "Data columns (total 85 columns):\n",
      " #   Column           Non-Null Count  Dtype  \n",
      "---  ------           --------------  -----  \n",
      " 0   SEQN             4446 non-null   float64\n",
      " 1   IMQ011           4446 non-null   float64\n",
      " 2   OHQ845           4446 non-null   float64\n",
      " 3   OHQ620           4446 non-null   float64\n",
      " 4   OCD150           4446 non-null   float64\n",
      " 5   WHD010           4446 non-null   float64\n",
      " 6   WHD020           4446 non-null   float64\n",
      " 7   WHD050           4446 non-null   float64\n",
      " 8   WHQ070           4446 non-null   float64\n",
      " 9   HOD051           4446 non-null   float64\n",
      " 10  MCQ010           4446 non-null   float64\n",
      " 11  AGQ030           4446 non-null   float64\n",
      " 12  MCQ053           4446 non-null   float64\n",
      " 13  HUQ010           4446 non-null   float64\n",
      " 14  HUQ030           4446 non-null   float64\n",
      " 15  HUQ055           4446 non-null   float64\n",
      " 16  HUQ090           4446 non-null   float64\n",
      " 17  SLQ300           4446 non-null   object \n",
      " 18  SLQ310           4446 non-null   object \n",
      " 19  SLD012           4446 non-null   float64\n",
      " 20  SLQ320           4446 non-null   object \n",
      " 21  SLQ330           4446 non-null   object \n",
      " 22  SLD013           4446 non-null   float64\n",
      " 23  SDDSRVYR         4446 non-null   float64\n",
      " 24  RIDSTATR         4446 non-null   float64\n",
      " 25  RIAGENDR         4446 non-null   float64\n",
      " 26  RIDAGEYR         4446 non-null   float64\n",
      " 27  RIDRETH1         4446 non-null   float64\n",
      " 28  RIDRETH3         4446 non-null   float64\n",
      " 29  RIDEXMON         4446 non-null   float64\n",
      " 30  DMQMILIZ         4446 non-null   float64\n",
      " 31  DMDBORN4         4446 non-null   float64\n",
      " 32  DMDHHSIZ         4446 non-null   float64\n",
      " 33  WTINT2YR         4446 non-null   float64\n",
      " 34  WTMEC2YR         4446 non-null   float64\n",
      " 35  SDMVSTRA         4446 non-null   float64\n",
      " 36  SDMVPSU          4446 non-null   float64\n",
      " 37  HEQ010           4446 non-null   float64\n",
      " 38  BPAOARM          4446 non-null   object \n",
      " 39  BPAOCSZ          4446 non-null   float64\n",
      " 40  BPXOSY1          4446 non-null   float64\n",
      " 41  BPXODI1          4446 non-null   float64\n",
      " 42  BPXOSY2          4446 non-null   float64\n",
      " 43  BPXODI2          4446 non-null   float64\n",
      " 44  BPXOSY3          4446 non-null   float64\n",
      " 45  BPXODI3          4446 non-null   float64\n",
      " 46  BPXOPLS1         4446 non-null   float64\n",
      " 47  BPXOPLS2         4446 non-null   float64\n",
      " 48  BPXOPLS3         4446 non-null   float64\n",
      " 49  LUAXSTAT         4446 non-null   float64\n",
      " 50  LUAPNME          4446 non-null   object \n",
      " 51  LUANMVGP         4446 non-null   float64\n",
      " 52  LUANMTGP         4446 non-null   float64\n",
      " 53  LUXSMED          4446 non-null   float64\n",
      " 54  LUXSIQR          4446 non-null   float64\n",
      " 55  LUXSIQRM         4446 non-null   float64\n",
      " 56  LUXCAPM          4446 non-null   float64\n",
      " 57  LUXCPIQR         4446 non-null   float64\n",
      " 58  BMDSTATS         4446 non-null   float64\n",
      " 59  BMXWT            4446 non-null   float64\n",
      " 60  BMXHT            4446 non-null   float64\n",
      " 61  BMXBMI           4446 non-null   float64\n",
      " 62  BMXLEG           4446 non-null   float64\n",
      " 63  BMXARML          4446 non-null   float64\n",
      " 64  BMXARMC          4446 non-null   float64\n",
      " 65  BMXWAIST         4446 non-null   float64\n",
      " 66  BMXHIP           4446 non-null   float64\n",
      " 67  DBQ930           4446 non-null   float64\n",
      " 68  DBQ935           4446 non-null   float64\n",
      " 69  DBQ940           4446 non-null   float64\n",
      " 70  DBQ945           4446 non-null   float64\n",
      " 71  HIQ011           4446 non-null   float64\n",
      " 72  HIQ210           4446 non-null   float64\n",
      " 73  WTPH2YR          4446 non-null   float64\n",
      " 74  SMD460           4446 non-null   float64\n",
      " 75  BPQ020           4446 non-null   float64\n",
      " 76  BPQ080           4446 non-null   float64\n",
      " 77  BPQ101D          4446 non-null   float64\n",
      " 78  RXQ033           4446 non-null   float64\n",
      " 79  PUQ100           4446 non-null   float64\n",
      " 80  PUQ110           4446 non-null   float64\n",
      " 81  INDFMMPC         4446 non-null   float64\n",
      " 82  INQ300           4446 non-null   float64\n",
      " 83  SMAQUEX2         4446 non-null   float64\n",
      " 84  Diabetes Status  4446 non-null   int64  \n",
      "dtypes: float64(78), int64(1), object(6)\n",
      "memory usage: 2.9+ MB\n"
     ]
    }
   ],
   "source": [
    "df = df.dropna(subset=['Diabetes Status'])\n",
    "\n",
    "missing_percentage = df.isnull().mean() * 100\n",
    "\n",
    "columns_to_drop = missing_percentage[missing_percentage > 10].index\n",
    "\n",
    "df = df.drop(columns=columns_to_drop)\n",
    "\n",
    "df = df.dropna()\n",
    "\n",
    "df.info()\n",
    "\n",
    "\n",
    "\n"
   ]
  },
  {
   "cell_type": "code",
   "execution_count": 21,
   "metadata": {},
   "outputs": [
    {
     "data": {
      "text/plain": [
       "Diabetes Status\n",
       "0    2177\n",
       "1    1708\n",
       "2     561\n",
       "Name: count, dtype: int64"
      ]
     },
     "execution_count": 21,
     "metadata": {},
     "output_type": "execute_result"
    }
   ],
   "source": [
    "df['Diabetes Status'].value_counts()"
   ]
  },
  {
   "cell_type": "code",
   "execution_count": 22,
   "metadata": {},
   "outputs": [
    {
     "ename": "ValueError",
     "evalue": "could not convert string to float: '21:30'",
     "output_type": "error",
     "traceback": [
      "\u001b[0;31m---------------------------------------------------------------------------\u001b[0m",
      "\u001b[0;31mValueError\u001b[0m                                Traceback (most recent call last)",
      "Cell \u001b[0;32mIn[22], line 3\u001b[0m\n\u001b[1;32m      1\u001b[0m plt\u001b[38;5;241m.\u001b[39mfigure(figsize\u001b[38;5;241m=\u001b[39m(\u001b[38;5;241m16\u001b[39m, \u001b[38;5;241m9\u001b[39m))\n\u001b[0;32m----> 3\u001b[0m corr_matrix \u001b[38;5;241m=\u001b[39m \u001b[43mdf\u001b[49m\u001b[38;5;241;43m.\u001b[39;49m\u001b[43mcorr\u001b[49m\u001b[43m(\u001b[49m\u001b[43m)\u001b[49m\n\u001b[1;32m      4\u001b[0m sns\u001b[38;5;241m.\u001b[39mheatmap(corr_matrix, annot\u001b[38;5;241m=\u001b[39m\u001b[38;5;28;01mTrue\u001b[39;00m, fmt\u001b[38;5;241m=\u001b[39m\u001b[38;5;124m\"\u001b[39m\u001b[38;5;124m.2f\u001b[39m\u001b[38;5;124m\"\u001b[39m)\n",
      "File \u001b[0;32m~/.local/lib/python3.12/site-packages/pandas/core/frame.py:11049\u001b[0m, in \u001b[0;36mDataFrame.corr\u001b[0;34m(self, method, min_periods, numeric_only)\u001b[0m\n\u001b[1;32m  11047\u001b[0m cols \u001b[38;5;241m=\u001b[39m data\u001b[38;5;241m.\u001b[39mcolumns\n\u001b[1;32m  11048\u001b[0m idx \u001b[38;5;241m=\u001b[39m cols\u001b[38;5;241m.\u001b[39mcopy()\n\u001b[0;32m> 11049\u001b[0m mat \u001b[38;5;241m=\u001b[39m \u001b[43mdata\u001b[49m\u001b[38;5;241;43m.\u001b[39;49m\u001b[43mto_numpy\u001b[49m\u001b[43m(\u001b[49m\u001b[43mdtype\u001b[49m\u001b[38;5;241;43m=\u001b[39;49m\u001b[38;5;28;43mfloat\u001b[39;49m\u001b[43m,\u001b[49m\u001b[43m \u001b[49m\u001b[43mna_value\u001b[49m\u001b[38;5;241;43m=\u001b[39;49m\u001b[43mnp\u001b[49m\u001b[38;5;241;43m.\u001b[39;49m\u001b[43mnan\u001b[49m\u001b[43m,\u001b[49m\u001b[43m \u001b[49m\u001b[43mcopy\u001b[49m\u001b[38;5;241;43m=\u001b[39;49m\u001b[38;5;28;43;01mFalse\u001b[39;49;00m\u001b[43m)\u001b[49m\n\u001b[1;32m  11051\u001b[0m \u001b[38;5;28;01mif\u001b[39;00m method \u001b[38;5;241m==\u001b[39m \u001b[38;5;124m\"\u001b[39m\u001b[38;5;124mpearson\u001b[39m\u001b[38;5;124m\"\u001b[39m:\n\u001b[1;32m  11052\u001b[0m     correl \u001b[38;5;241m=\u001b[39m libalgos\u001b[38;5;241m.\u001b[39mnancorr(mat, minp\u001b[38;5;241m=\u001b[39mmin_periods)\n",
      "File \u001b[0;32m~/.local/lib/python3.12/site-packages/pandas/core/frame.py:1993\u001b[0m, in \u001b[0;36mDataFrame.to_numpy\u001b[0;34m(self, dtype, copy, na_value)\u001b[0m\n\u001b[1;32m   1991\u001b[0m \u001b[38;5;28;01mif\u001b[39;00m dtype \u001b[38;5;129;01mis\u001b[39;00m \u001b[38;5;129;01mnot\u001b[39;00m \u001b[38;5;28;01mNone\u001b[39;00m:\n\u001b[1;32m   1992\u001b[0m     dtype \u001b[38;5;241m=\u001b[39m np\u001b[38;5;241m.\u001b[39mdtype(dtype)\n\u001b[0;32m-> 1993\u001b[0m result \u001b[38;5;241m=\u001b[39m \u001b[38;5;28;43mself\u001b[39;49m\u001b[38;5;241;43m.\u001b[39;49m\u001b[43m_mgr\u001b[49m\u001b[38;5;241;43m.\u001b[39;49m\u001b[43mas_array\u001b[49m\u001b[43m(\u001b[49m\u001b[43mdtype\u001b[49m\u001b[38;5;241;43m=\u001b[39;49m\u001b[43mdtype\u001b[49m\u001b[43m,\u001b[49m\u001b[43m \u001b[49m\u001b[43mcopy\u001b[49m\u001b[38;5;241;43m=\u001b[39;49m\u001b[43mcopy\u001b[49m\u001b[43m,\u001b[49m\u001b[43m \u001b[49m\u001b[43mna_value\u001b[49m\u001b[38;5;241;43m=\u001b[39;49m\u001b[43mna_value\u001b[49m\u001b[43m)\u001b[49m\n\u001b[1;32m   1994\u001b[0m \u001b[38;5;28;01mif\u001b[39;00m result\u001b[38;5;241m.\u001b[39mdtype \u001b[38;5;129;01mis\u001b[39;00m \u001b[38;5;129;01mnot\u001b[39;00m dtype:\n\u001b[1;32m   1995\u001b[0m     result \u001b[38;5;241m=\u001b[39m np\u001b[38;5;241m.\u001b[39masarray(result, dtype\u001b[38;5;241m=\u001b[39mdtype)\n",
      "File \u001b[0;32m~/.local/lib/python3.12/site-packages/pandas/core/internals/managers.py:1694\u001b[0m, in \u001b[0;36mBlockManager.as_array\u001b[0;34m(self, dtype, copy, na_value)\u001b[0m\n\u001b[1;32m   1692\u001b[0m         arr\u001b[38;5;241m.\u001b[39mflags\u001b[38;5;241m.\u001b[39mwriteable \u001b[38;5;241m=\u001b[39m \u001b[38;5;28;01mFalse\u001b[39;00m\n\u001b[1;32m   1693\u001b[0m \u001b[38;5;28;01melse\u001b[39;00m:\n\u001b[0;32m-> 1694\u001b[0m     arr \u001b[38;5;241m=\u001b[39m \u001b[38;5;28;43mself\u001b[39;49m\u001b[38;5;241;43m.\u001b[39;49m\u001b[43m_interleave\u001b[49m\u001b[43m(\u001b[49m\u001b[43mdtype\u001b[49m\u001b[38;5;241;43m=\u001b[39;49m\u001b[43mdtype\u001b[49m\u001b[43m,\u001b[49m\u001b[43m \u001b[49m\u001b[43mna_value\u001b[49m\u001b[38;5;241;43m=\u001b[39;49m\u001b[43mna_value\u001b[49m\u001b[43m)\u001b[49m\n\u001b[1;32m   1695\u001b[0m     \u001b[38;5;66;03m# The underlying data was copied within _interleave, so no need\u001b[39;00m\n\u001b[1;32m   1696\u001b[0m     \u001b[38;5;66;03m# to further copy if copy=True or setting na_value\u001b[39;00m\n\u001b[1;32m   1698\u001b[0m \u001b[38;5;28;01mif\u001b[39;00m na_value \u001b[38;5;129;01mis\u001b[39;00m lib\u001b[38;5;241m.\u001b[39mno_default:\n",
      "File \u001b[0;32m~/.local/lib/python3.12/site-packages/pandas/core/internals/managers.py:1753\u001b[0m, in \u001b[0;36mBlockManager._interleave\u001b[0;34m(self, dtype, na_value)\u001b[0m\n\u001b[1;32m   1751\u001b[0m     \u001b[38;5;28;01melse\u001b[39;00m:\n\u001b[1;32m   1752\u001b[0m         arr \u001b[38;5;241m=\u001b[39m blk\u001b[38;5;241m.\u001b[39mget_values(dtype)\n\u001b[0;32m-> 1753\u001b[0m     \u001b[43mresult\u001b[49m\u001b[43m[\u001b[49m\u001b[43mrl\u001b[49m\u001b[38;5;241;43m.\u001b[39;49m\u001b[43mindexer\u001b[49m\u001b[43m]\u001b[49m \u001b[38;5;241m=\u001b[39m arr\n\u001b[1;32m   1754\u001b[0m     itemmask[rl\u001b[38;5;241m.\u001b[39mindexer] \u001b[38;5;241m=\u001b[39m \u001b[38;5;241m1\u001b[39m\n\u001b[1;32m   1756\u001b[0m \u001b[38;5;28;01mif\u001b[39;00m \u001b[38;5;129;01mnot\u001b[39;00m itemmask\u001b[38;5;241m.\u001b[39mall():\n",
      "\u001b[0;31mValueError\u001b[0m: could not convert string to float: '21:30'"
     ]
    },
    {
     "data": {
      "text/plain": [
       "<Figure size 1600x900 with 0 Axes>"
      ]
     },
     "metadata": {},
     "output_type": "display_data"
    }
   ],
   "source": [
    "\n",
    "\n",
    "plt.figure(figsize=(16, 9))\n",
    "\n",
    "corr_matrix = df.corr()\n",
    "sns.heatmap(corr_matrix, annot=True, fmt=\".2f\")"
   ]
  },
  {
   "cell_type": "code",
   "execution_count": null,
   "metadata": {},
   "outputs": [],
   "source": []
  }
 ],
 "metadata": {
  "kernelspec": {
   "display_name": "Python 3",
   "language": "python",
   "name": "python3"
  },
  "language_info": {
   "codemirror_mode": {
    "name": "ipython",
    "version": 3
   },
   "file_extension": ".py",
   "mimetype": "text/x-python",
   "name": "python",
   "nbconvert_exporter": "python",
   "pygments_lexer": "ipython3",
   "version": "3.12.1"
  }
 },
 "nbformat": 4,
 "nbformat_minor": 2
}
