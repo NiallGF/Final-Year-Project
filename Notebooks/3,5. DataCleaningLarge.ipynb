{
 "cells": [
  {
   "cell_type": "code",
   "execution_count": 51,
   "metadata": {},
   "outputs": [
    {
     "name": "stdout",
     "output_type": "stream",
     "text": [
      "<class 'pandas.core.frame.DataFrame'>\n",
      "RangeIndex: 11933 entries, 0 to 11932\n",
      "Columns: 290 entries, SEQN to RHQ332\n",
      "dtypes: float64(283), object(7)\n",
      "memory usage: 26.4+ MB\n"
     ]
    }
   ],
   "source": [
    "import os\n",
    "import pandas as pd\n",
    "import matplotlib.pyplot as plt\n",
    "import seaborn as sns\n",
    "\n",
    "\n",
    "data_dir_1 = '/workspaces/Final-Year-Project/Data/2023/'\n",
    "\n",
    "file_list = os.listdir(data_dir_1)\n",
    "\n",
    "sas_files = [file for file in file_list if file.endswith('.XPT') or file.endswith('.xpt')]\n",
    "\n",
    "data_frames = {}\n",
    "\n",
    "for file_name in sas_files:\n",
    "    file_path = os.path.join(data_dir_1, file_name)\n",
    "    \n",
    "    df = pd.read_sas(file_path, format='xport', encoding='iso-8859-1')\n",
    "    \n",
    "    data_frames[file_name] = df\n",
    "\n",
    "merged_df = data_frames[sas_files[0]]  # Start with the first dataset\n",
    "\n",
    "for file_name in sas_files[1:]:  # Skip the first file as it's already merged\n",
    "    merged_df = pd.merge(merged_df, data_frames[file_name], on='SEQN', how='outer')  # Merge based on SEQN\n",
    "\n",
    "merged_df.info()\n"
   ]
  },
  {
   "cell_type": "code",
   "execution_count": 52,
   "metadata": {},
   "outputs": [
    {
     "name": "stdout",
     "output_type": "stream",
     "text": [
      "<class 'pandas.core.frame.DataFrame'>\n",
      "RangeIndex: 11933 entries, 0 to 11932\n",
      "Columns: 283 entries, SEQN to RHQ332\n",
      "dtypes: float64(283)\n",
      "memory usage: 25.8 MB\n"
     ]
    }
   ],
   "source": [
    "\n",
    "\n",
    "# Now select only float64 columns\n",
    "df_float = merged_df.select_dtypes(include=['float64'])\n",
    "\n",
    "# Display the cleaned dataframe info\n",
    "df_float.info()\n",
    "\n"
   ]
  },
  {
   "cell_type": "code",
   "execution_count": 53,
   "metadata": {},
   "outputs": [
    {
     "name": "stdout",
     "output_type": "stream",
     "text": [
      "<class 'pandas.core.frame.DataFrame'>\n",
      "Index: 6717 entries, 0 to 11932\n",
      "Columns: 282 entries, SEQN to Diabetes Status\n",
      "dtypes: float64(281), int64(1)\n",
      "memory usage: 14.5 MB\n"
     ]
    },
    {
     "name": "stderr",
     "output_type": "stream",
     "text": [
      "/tmp/ipykernel_16796/2265844166.py:12: SettingWithCopyWarning: \n",
      "A value is trying to be set on a copy of a slice from a DataFrame.\n",
      "Try using .loc[row_indexer,col_indexer] = value instead\n",
      "\n",
      "See the caveats in the documentation: https://pandas.pydata.org/pandas-docs/stable/user_guide/indexing.html#returning-a-view-versus-a-copy\n",
      "  merged_df_cleaned['Diabetes Status'] = merged_df_cleaned.apply(categorize_diabetes, axis=1)\n"
     ]
    }
   ],
   "source": [
    "merged_df_cleaned = df_float.dropna(subset=['LBXGH', 'LBXGLU'], how='all')\n",
    "\n",
    "def categorize_diabetes(row):\n",
    "    if (pd.notnull(row['LBXGH']) and row['LBXGH'] >= 6.5) or (pd.notnull(row['LBXGLU']) and row['LBXGLU'] >= 126):\n",
    "        return 2\n",
    "    \n",
    "    elif (pd.notnull(row['LBXGH']) and 5.7 <= row['LBXGH'] < 6.5) or (pd.notnull(row['LBXGLU']) and 100 <= row['LBXGLU'] < 126):\n",
    "        return 1\n",
    "    else:\n",
    "        return 0\n",
    "\n",
    "merged_df_cleaned['Diabetes Status'] = merged_df_cleaned.apply(categorize_diabetes, axis=1)\n",
    "\n",
    "merged_df_cleaned = merged_df_cleaned.drop(columns=['LBXGH', 'LBXGLU'])\n",
    "\n",
    "df = merged_df_cleaned\n",
    "df.info()\n",
    "\n"
   ]
  },
  {
   "cell_type": "code",
   "execution_count": 54,
   "metadata": {},
   "outputs": [
    {
     "name": "stdout",
     "output_type": "stream",
     "text": [
      "<class 'pandas.core.frame.DataFrame'>\n",
      "Index: 4701 entries, 0 to 11932\n",
      "Data columns (total 71 columns):\n",
      " #   Column           Non-Null Count  Dtype  \n",
      "---  ------           --------------  -----  \n",
      " 0   SEQN             4701 non-null   float64\n",
      " 1   IMQ011           4701 non-null   float64\n",
      " 2   OHQ845           4701 non-null   float64\n",
      " 3   OHQ620           4701 non-null   float64\n",
      " 4   OCD150           4701 non-null   float64\n",
      " 5   WHD010           4701 non-null   float64\n",
      " 6   WHD020           4701 non-null   float64\n",
      " 7   WHD050           4701 non-null   float64\n",
      " 8   WHQ070           4701 non-null   float64\n",
      " 9   HOD051           4701 non-null   float64\n",
      " 10  MCQ010           4701 non-null   float64\n",
      " 11  AGQ030           4701 non-null   float64\n",
      " 12  MCQ053           4701 non-null   float64\n",
      " 13  HUQ010           4701 non-null   float64\n",
      " 14  HUQ030           4701 non-null   float64\n",
      " 15  HUQ055           4701 non-null   float64\n",
      " 16  HUQ090           4701 non-null   float64\n",
      " 17  SLD012           4701 non-null   float64\n",
      " 18  SLD013           4701 non-null   float64\n",
      " 19  SDDSRVYR         4701 non-null   float64\n",
      " 20  RIDSTATR         4701 non-null   float64\n",
      " 21  RIAGENDR         4701 non-null   float64\n",
      " 22  RIDAGEYR         4701 non-null   float64\n",
      " 23  RIDRETH1         4701 non-null   float64\n",
      " 24  RIDRETH3         4701 non-null   float64\n",
      " 25  RIDEXMON         4701 non-null   float64\n",
      " 26  DMQMILIZ         4701 non-null   float64\n",
      " 27  DMDBORN4         4701 non-null   float64\n",
      " 28  DMDHHSIZ         4701 non-null   float64\n",
      " 29  WTINT2YR         4701 non-null   float64\n",
      " 30  WTMEC2YR         4701 non-null   float64\n",
      " 31  SDMVSTRA         4701 non-null   float64\n",
      " 32  SDMVPSU          4701 non-null   float64\n",
      " 33  HEQ010           4701 non-null   float64\n",
      " 34  BPAOCSZ          4701 non-null   float64\n",
      " 35  BPXOSY1          4701 non-null   float64\n",
      " 36  BPXODI1          4701 non-null   float64\n",
      " 37  BPXOSY2          4701 non-null   float64\n",
      " 38  BPXODI2          4701 non-null   float64\n",
      " 39  BPXOSY3          4701 non-null   float64\n",
      " 40  BPXODI3          4701 non-null   float64\n",
      " 41  BPXOPLS1         4701 non-null   float64\n",
      " 42  BPXOPLS2         4701 non-null   float64\n",
      " 43  BPXOPLS3         4701 non-null   float64\n",
      " 44  BMDSTATS         4701 non-null   float64\n",
      " 45  BMXWT            4701 non-null   float64\n",
      " 46  BMXHT            4701 non-null   float64\n",
      " 47  BMXBMI           4701 non-null   float64\n",
      " 48  BMXLEG           4701 non-null   float64\n",
      " 49  BMXARML          4701 non-null   float64\n",
      " 50  BMXARMC          4701 non-null   float64\n",
      " 51  BMXWAIST         4701 non-null   float64\n",
      " 52  BMXHIP           4701 non-null   float64\n",
      " 53  DBQ930           4701 non-null   float64\n",
      " 54  DBQ935           4701 non-null   float64\n",
      " 55  DBQ940           4701 non-null   float64\n",
      " 56  DBQ945           4701 non-null   float64\n",
      " 57  HIQ011           4701 non-null   float64\n",
      " 58  HIQ210           4701 non-null   float64\n",
      " 59  WTPH2YR          4701 non-null   float64\n",
      " 60  SMD460           4701 non-null   float64\n",
      " 61  BPQ020           4701 non-null   float64\n",
      " 62  BPQ080           4701 non-null   float64\n",
      " 63  BPQ101D          4701 non-null   float64\n",
      " 64  RXQ033           4701 non-null   float64\n",
      " 65  PUQ100           4701 non-null   float64\n",
      " 66  PUQ110           4701 non-null   float64\n",
      " 67  INDFMMPC         4701 non-null   float64\n",
      " 68  INQ300           4701 non-null   float64\n",
      " 69  SMAQUEX2         4701 non-null   float64\n",
      " 70  Diabetes Status  4701 non-null   int64  \n",
      "dtypes: float64(70), int64(1)\n",
      "memory usage: 2.6 MB\n"
     ]
    }
   ],
   "source": [
    "df = df.dropna(subset=['Diabetes Status'])\n",
    "\n",
    "missing_percentage = df.isnull().mean() * 100\n",
    "\n",
    "columns_to_drop = missing_percentage[missing_percentage > 10].index\n",
    "\n",
    "df = df.drop(columns=columns_to_drop)\n",
    "\n",
    "df = df.dropna()\n",
    "\n",
    "df.info()\n",
    "\n",
    "\n",
    "\n"
   ]
  },
  {
   "cell_type": "code",
   "execution_count": 55,
   "metadata": {},
   "outputs": [
    {
     "data": {
      "text/plain": [
       "Diabetes Status\n",
       "0    2284\n",
       "1    1800\n",
       "2     617\n",
       "Name: count, dtype: int64"
      ]
     },
     "execution_count": 55,
     "metadata": {},
     "output_type": "execute_result"
    }
   ],
   "source": [
    "df['Diabetes Status'].value_counts()"
   ]
  },
  {
   "cell_type": "code",
   "execution_count": 56,
   "metadata": {},
   "outputs": [
    {
     "data": {
      "text/plain": [
       "Diabetes Status\n",
       "0    617\n",
       "2    617\n",
       "1    617\n",
       "Name: count, dtype: int64"
      ]
     },
     "execution_count": 56,
     "metadata": {},
     "output_type": "execute_result"
    }
   ],
   "source": [
    "from sklearn.utils import resample\n",
    "\n",
    "no_diabetes = df[df['Diabetes Status'] == 0]\n",
    "prediabetes = df[df['Diabetes Status'] == 1]\n",
    "diabetes = df[df['Diabetes Status'] == 2]\n",
    "\n",
    "minority_class_size = len(diabetes)\n",
    "\n",
    "no_diabetes_downsampled = resample(no_diabetes, replace=False, n_samples=minority_class_size, random_state=42)\n",
    "prediabetes_downsampled = resample(prediabetes, replace=False, n_samples=minority_class_size, random_state=42)\n",
    "\n",
    "df_balanced = pd.concat([no_diabetes_downsampled, prediabetes_downsampled, diabetes])\n",
    "\n",
    "# Shuffle the dataset\n",
    "df_balanced = df_balanced.sample(frac=1, random_state=42).reset_index(drop=True)\n",
    "\n",
    "df_balanced['Diabetes Status'].value_counts()"
   ]
  },
  {
   "cell_type": "code",
   "execution_count": 57,
   "metadata": {},
   "outputs": [
    {
     "data": {
      "text/plain": [
       "Diabetes Status    1.000000\n",
       "BMXWAIST           0.420927\n",
       "RIDAGEYR           0.410169\n",
       "RXQ033             0.350545\n",
       "BPQ020             0.345960\n",
       "HUQ010             0.340176\n",
       "BMXBMI             0.321933\n",
       "BMXWT              0.284921\n",
       "BPQ101D            0.281895\n",
       "BMXARMC            0.270018\n",
       "OHQ845             0.232009\n",
       "BPAOCSZ            0.229840\n",
       "BMXHIP             0.226191\n",
       "OCD150             0.214947\n",
       "BPXOSY2            0.206634\n",
       "Name: Diabetes Status, dtype: float64"
      ]
     },
     "execution_count": 57,
     "metadata": {},
     "output_type": "execute_result"
    }
   ],
   "source": [
    "# Calculate the correlation matrix\n",
    "df_corr = df_balanced.corr()\n",
    "\n",
    "# Filter out the correlations with Diabetes Status, and get those greater than 0.20\n",
    "df_top_filtered = df_corr['Diabetes Status'].abs()[df_corr['Diabetes Status'].abs() > 0.20]\n",
    "\n",
    "# Now, get the list of column names that have a correlation greater than 0.20\n",
    "columns_to_keep = df_top_filtered.index\n",
    "\n",
    "# Select only the columns with correlation > 0.20\n",
    "df_filtered = df_balanced[columns_to_keep]\n",
    "\n",
    "# Save the filtered dataframe to CSV\n",
    "df_filtered.to_csv('/workspaces/Final-Year-Project/Cleaned Data/TopCorrelationData.csv', index=False)\n",
    "\n",
    "# Verify the new dataframe info\n",
    "df_top_filtered.sort_values(ascending=False)\n",
    "\n"
   ]
  },
  {
   "cell_type": "code",
   "execution_count": 58,
   "metadata": {},
   "outputs": [],
   "source": [
    "from sklearn.model_selection import train_test_split\n",
    "\n",
    "df_train_test, df_validate = train_test_split(df_filtered, test_size=0.1, random_state=42)\n",
    "\n",
    "df_validate.to_csv('/workspaces/Final-Year-Project/Cleaned Data/ValidationData.csv', index=False)\n",
    "\n",
    "df_train_test.to_csv('/workspaces/Final-Year-Project/Cleaned Data/TrainTestData.csv', index=False)"
   ]
  },
  {
   "cell_type": "code",
   "execution_count": 59,
   "metadata": {},
   "outputs": [
    {
     "name": "stdout",
     "output_type": "stream",
     "text": [
      "<class 'pandas.core.frame.DataFrame'>\n",
      "Index: 1665 entries, 344 to 1126\n",
      "Data columns (total 15 columns):\n",
      " #   Column           Non-Null Count  Dtype  \n",
      "---  ------           --------------  -----  \n",
      " 0   OHQ845           1665 non-null   float64\n",
      " 1   OCD150           1665 non-null   float64\n",
      " 2   HUQ010           1665 non-null   float64\n",
      " 3   RIDAGEYR         1665 non-null   float64\n",
      " 4   BPAOCSZ          1665 non-null   float64\n",
      " 5   BPXOSY2          1665 non-null   float64\n",
      " 6   BMXWT            1665 non-null   float64\n",
      " 7   BMXBMI           1665 non-null   float64\n",
      " 8   BMXARMC          1665 non-null   float64\n",
      " 9   BMXWAIST         1665 non-null   float64\n",
      " 10  BMXHIP           1665 non-null   float64\n",
      " 11  BPQ020           1665 non-null   float64\n",
      " 12  BPQ101D          1665 non-null   float64\n",
      " 13  RXQ033           1665 non-null   float64\n",
      " 14  Diabetes Status  1665 non-null   int64  \n",
      "dtypes: float64(14), int64(1)\n",
      "memory usage: 208.1 KB\n"
     ]
    }
   ],
   "source": [
    "df_train_test.info()"
   ]
  },
  {
   "cell_type": "code",
   "execution_count": null,
   "metadata": {},
   "outputs": [],
   "source": []
  }
 ],
 "metadata": {
  "kernelspec": {
   "display_name": "Python 3",
   "language": "python",
   "name": "python3"
  },
  "language_info": {
   "codemirror_mode": {
    "name": "ipython",
    "version": 3
   },
   "file_extension": ".py",
   "mimetype": "text/x-python",
   "name": "python",
   "nbconvert_exporter": "python",
   "pygments_lexer": "ipython3",
   "version": "3.12.1"
  }
 },
 "nbformat": 4,
 "nbformat_minor": 2
}
