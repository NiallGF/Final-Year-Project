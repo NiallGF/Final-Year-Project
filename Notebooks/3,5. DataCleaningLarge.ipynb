{
 "cells": [
  {
   "cell_type": "code",
   "execution_count": null,
   "metadata": {},
   "outputs": [],
   "source": [
    "import os\n",
    "import pandas as pd\n",
    "import time\n",
    "from sklearn.utils import resample\n",
    "from sklearn.model_selection import train_test_split\n",
    "\n",
    "data_dir_1 = '/workspaces/Final-Year-Project/Data/2023/'\n",
    "file_list = os.listdir(data_dir_1)\n",
    "sas_files = [file for file in file_list if file.endswith('.XPT') or file.endswith('.xpt')]\n",
    "\n",
    "first_file_path = os.path.join(data_dir_1, sas_files[0])\n",
    "merged_df = pd.read_sas(first_file_path, format='xport', encoding='iso-8859-1')\n",
    "\n",
    "for file_name in sas_files[1:]:\n",
    "    file_path = os.path.join(data_dir_1, file_name)\n",
    "    df = pd.read_sas(file_path, format='xport', encoding='iso-8859-1')\n",
    "    if 'SEQN' not in df.columns:\n",
    "        continue  # Skip files missing SEQN\n",
    "    merged_df = pd.merge(merged_df, df, on='SEQN', how='outer', suffixes=('', f'_{file_name}'))\n",
    "    del df  # Free memory\n",
    "\n",
    "merged_df = merged_df.select_dtypes(include=['float64'])"
   ]
  },
  {
   "cell_type": "code",
   "execution_count": null,
   "metadata": {},
   "outputs": [],
   "source": [
    "merged_df_cleaned = merged_df.dropna(subset=['LBXGH', 'LBXGLU'], how='all').copy()\n",
    "\n",
    "def categorize_diabetes(row):    \n",
    "    if (pd.notnull(row['LBXGH']) and row['LBXGH'] >= 5.7) or (pd.notnull(row['LBXGLU']) and row['LBXGLU'] >= 100):\n",
    "        return 1  # Diabetes / At Risk\n",
    "    else:\n",
    "        return 0  # No Diabetes\n",
    "\n",
    "merged_df_cleaned['Diabetes Status'] = merged_df_cleaned.apply(categorize_diabetes, axis=1)\n",
    "merged_df_cleaned.drop(columns=['LBXGH', 'LBXGLU'], inplace=True)\n",
    "\n",
    "df = merged_df_cleaned.copy()"
   ]
  },
  {
   "cell_type": "code",
   "execution_count": null,
   "metadata": {},
   "outputs": [],
   "source": [
    "missing_percentage = df.isnull().mean() * 100\n",
    "\n",
    "columns_to_drop = missing_percentage[missing_percentage > 60].index\n",
    "df = df.drop(columns=columns_to_drop)\n",
    "\n",
    "df = df.dropna(thresh=len(df.columns) * 0.8)\n",
    "\n",
    "df = df.dropna(subset=['Diabetes Status'])"
   ]
  },
  {
   "cell_type": "code",
   "execution_count": null,
   "metadata": {},
   "outputs": [],
   "source": [
    "no_diabetes = df[df['Diabetes Status'] == 0]\n",
    "diabetes = df[df['Diabetes Status'] == 1]\n",
    "\n",
    "minority_class_size = min(len(no_diabetes), len(diabetes))\n",
    "\n",
    "no_diabetes_downsampled = resample(no_diabetes, replace=False, n_samples=minority_class_size, random_state=42)\n",
    "diabetes_downsampled = resample(diabetes, replace=False, n_samples=minority_class_size, random_state=42)\n",
    "\n",
    "df_balanced = pd.concat([no_diabetes_downsampled, diabetes_downsampled])\n",
    "\n",
    "df_balanced = df_balanced.sample(frac=1, random_state=42).reset_index(drop=True)"
   ]
  },
  {
   "cell_type": "code",
   "execution_count": null,
   "metadata": {},
   "outputs": [],
   "source": [
    "df_corr = df_balanced.corr()\n",
    "\n",
    "df_top_filtered = df_corr['Diabetes Status'].abs()[df_corr['Diabetes Status'].abs() > 0.15]\n",
    "\n",
    "columns_to_keep = df_top_filtered.index\n",
    "df_filtered = df_balanced[columns_to_keep]"
   ]
  },
  {
   "cell_type": "code",
   "execution_count": null,
   "metadata": {},
   "outputs": [
    {
     "name": "stdout",
     "output_type": "stream",
     "text": [
      "Final Diabetes Status Distribution:\n",
      " Diabetes Status\n",
      "0    2357\n",
      "1    2357\n",
      "Name: count, dtype: int64\n",
      "Final Dataset Info:\n",
      "\n",
      "<class 'pandas.core.frame.DataFrame'>\n",
      "RangeIndex: 4714 entries, 0 to 4713\n",
      "Data columns (total 13 columns):\n",
      " #   Column           Non-Null Count  Dtype  \n",
      "---  ------           --------------  -----  \n",
      " 0   BPQ020           4714 non-null   float64\n",
      " 1   BPQ080           4714 non-null   float64\n",
      " 2   BPQ101D          4714 non-null   float64\n",
      " 3   RHQ031           2585 non-null   float64\n",
      " 4   RHD280           2577 non-null   float64\n",
      " 5   RIDAGEYR         4714 non-null   float64\n",
      " 6   HUQ010           4714 non-null   float64\n",
      " 7   FNQ440           4714 non-null   float64\n",
      " 8   LBDGLUSI         2585 non-null   float64\n",
      " 9   OCD150           4714 non-null   float64\n",
      " 10  RXQ033           4714 non-null   float64\n",
      " 11  RXQ050           3298 non-null   float64\n",
      " 12  Diabetes Status  4714 non-null   int64  \n",
      "dtypes: float64(12), int64(1)\n",
      "memory usage: 478.9 KB\n"
     ]
    }
   ],
   "source": [
    "df_train_test, df_validate = train_test_split(df_filtered, test_size=0.1, random_state=42)\n",
    "\n",
    "df_filtered.to_csv('/workspaces/Final-Year-Project/Cleaned Data/DataTopCorrelationData.csv', index=False)\n",
    "df_validate.to_csv('/workspaces/Final-Year-Project/Cleaned Data/ValidationData.csv', index=False)\n",
    "df_train_test.to_csv('/workspaces/Final-Year-Project/Cleaned Data/TrainTestData.csv', index=False)\n",
    "\n",
    "print(\"Final Diabetes Status Distribution:\\n\", df_filtered['Diabetes Status'].value_counts())\n",
    "print(\"Final Dataset Info:\\n\")\n",
    "df_filtered.info()"
   ]
  }
 ],
 "metadata": {
  "kernelspec": {
   "display_name": "Python 3",
   "language": "python",
   "name": "python3"
  },
  "language_info": {
   "codemirror_mode": {
    "name": "ipython",
    "version": 3
   },
   "file_extension": ".py",
   "mimetype": "text/x-python",
   "name": "python",
   "nbconvert_exporter": "python",
   "pygments_lexer": "ipython3",
   "version": "3.12.1"
  }
 },
 "nbformat": 4,
 "nbformat_minor": 2
}
