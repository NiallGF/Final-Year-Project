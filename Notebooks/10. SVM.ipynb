{
 "cells": [
  {
   "cell_type": "markdown",
   "metadata": {},
   "source": [
    "**Train Test and Cross Validation**"
   ]
  },
  {
   "cell_type": "code",
   "execution_count": 2,
   "metadata": {},
   "outputs": [
    {
     "name": "stdout",
     "output_type": "stream",
     "text": [
      "🔍 SVM - Original dataset shape: (4435, 10)\n",
      "🧹 SVM - After dropping NaNs: (3003, 10)\n",
      "📊 SVM - Final dataset shape after scaling: (3003, 9)\n",
      "✅ SVM - K-Fold Mean Accuracy: 0.6876\n",
      "📌 SVM Classification Report:\n",
      "              precision    recall  f1-score   support\n",
      "\n",
      "           0       0.73      0.57      0.64      1339\n",
      "           1       0.70      0.83      0.76      1664\n",
      "\n",
      "    accuracy                           0.71      3003\n",
      "   macro avg       0.71      0.70      0.70      3003\n",
      "weighted avg       0.71      0.71      0.70      3003\n",
      "\n",
      "🟦 SVM Confusion Matrix:\n",
      "[[ 757  582]\n",
      " [ 287 1377]]\n"
     ]
    }
   ],
   "source": [
    "import pandas as pd\n",
    "from sklearn.model_selection import KFold, cross_val_score\n",
    "from sklearn.preprocessing import StandardScaler\n",
    "from sklearn.svm import SVC\n",
    "from sklearn.metrics import classification_report, confusion_matrix\n",
    "\n",
    "data_path = '/workspaces/Final-Year-Project/Cleaned Data/TrainTestData.csv'\n",
    "df = pd.read_csv(data_path)\n",
    "\n",
    "print(f\"🔍 SVM - Original dataset shape: {df.shape}\")\n",
    "\n",
    "df = df.dropna()\n",
    "\n",
    "print(f\"🧹 SVM - After dropping NaNs: {df.shape}\")\n",
    "\n",
    "X = df.drop('Diabetes Status', axis=1)\n",
    "y = df['Diabetes Status']\n",
    "\n",
    "scaler = StandardScaler()\n",
    "X_scaled = scaler.fit_transform(X)\n",
    "\n",
    "print(f\"📊 SVM - Final dataset shape after scaling: {X_scaled.shape}\")\n",
    "\n",
    "svm = SVC(kernel='rbf', C=1.0, gamma='scale', random_state=42)\n",
    "\n",
    "kf = KFold(n_splits=5, shuffle=True, random_state=42)\n",
    "\n",
    "svm_kfold_scores = cross_val_score(svm, X_scaled, y, cv=kf, scoring='accuracy')\n",
    "\n",
    "svm.fit(X_scaled, y)\n",
    "y_pred = svm.predict(X_scaled)\n",
    "\n",
    "print(f\"✅ SVM - K-Fold Mean Accuracy: {svm_kfold_scores.mean():.4f}\")\n",
    "print(\"📌 SVM Classification Report:\")\n",
    "print(classification_report(y, y_pred))\n",
    "print(\"🟦 SVM Confusion Matrix:\")\n",
    "print(confusion_matrix(y, y_pred))\n"
   ]
  },
  {
   "cell_type": "code",
   "execution_count": 3,
   "metadata": {},
   "outputs": [
    {
     "name": "stdout",
     "output_type": "stream",
     "text": [
      "Fitting 5 folds for each of 4 candidates, totalling 20 fits\n"
     ]
    },
    {
     "name": "stdout",
     "output_type": "stream",
     "text": [
      "[CV] END ............................................C=0.001; total time=   0.4s\n",
      "[CV] END ............................................C=0.001; total time=   0.4s\n",
      "[CV] END ............................................C=0.001; total time=   0.4s\n",
      "[CV] END ............................................C=0.001; total time=   0.5s\n",
      "[CV] END ..............................................C=0.1; total time=   0.3s\n",
      "[CV] END ............................................C=0.001; total time=   0.4s\n",
      "[CV] END ..............................................C=0.1; total time=   0.3s\n",
      "[CV] END ..............................................C=0.1; total time=   0.3s\n",
      "[CV] END ..............................................C=0.1; total time=   0.3s\n",
      "[CV] END ..............................................C=0.1; total time=   0.3s\n",
      "[CV] END ................................................C=1; total time=   0.3s\n",
      "[CV] END ................................................C=1; total time=   0.3s\n",
      "[CV] END ................................................C=1; total time=   0.3s\n",
      "[CV] END ................................................C=1; total time=   0.3s\n",
      "[CV] END ................................................C=1; total time=   0.4s\n",
      "[CV] END ...............................................C=10; total time=   0.5s\n",
      "[CV] END ...............................................C=10; total time=   0.4s\n",
      "[CV] END ...............................................C=10; total time=   0.4s\n",
      "[CV] END ...............................................C=10; total time=   0.4s\n",
      "[CV] END ...............................................C=10; total time=   0.4s\n",
      "Best Parameters: {'C': 0.1}\n",
      "Best Cross-Validation Accuracy: 0.6906\n"
     ]
    }
   ],
   "source": [
    "from sklearn.model_selection import GridSearchCV\n",
    "\n",
    "param_grid = {\n",
    "    'C': [0.001, 0.1, 1, 10],\n",
    "}\n",
    "\n",
    "grid_search = GridSearchCV(SVC(), param_grid, cv=kf, n_jobs=-1, verbose=2, scoring='accuracy')\n",
    "grid_search.fit(X_scaled, y)\n",
    "\n",
    "print(f\"Best Parameters: {grid_search.best_params_}\")\n",
    "print(f\"Best Cross-Validation Accuracy: {grid_search.best_score_:.4f}\")\n"
   ]
  },
  {
   "cell_type": "code",
   "execution_count": 4,
   "metadata": {},
   "outputs": [
    {
     "name": "stdout",
     "output_type": "stream",
     "text": [
      "🧪 SVM - Validation dataset shape: (335, 9)\n",
      "📌 SVM - Validation Classification Report:\n",
      "              precision    recall  f1-score   support\n",
      "\n",
      "           0       0.74      0.60      0.66       145\n",
      "           1       0.73      0.84      0.78       190\n",
      "\n",
      "    accuracy                           0.73       335\n",
      "   macro avg       0.74      0.72      0.72       335\n",
      "weighted avg       0.73      0.73      0.73       335\n",
      "\n",
      "🟦 SVM - Validation Confusion Matrix:\n",
      "[[ 87  58]\n",
      " [ 31 159]]\n"
     ]
    }
   ],
   "source": [
    "from sklearn.metrics import classification_report, confusion_matrix\n",
    "\n",
    "valid_path = \"/workspaces/Final-Year-Project/Cleaned Data/ValidationData.csv\"\n",
    "\n",
    "df_valid = pd.read_csv(valid_path)\n",
    "df_valid = df_valid.dropna()\n",
    "\n",
    "X_valid = df_valid.drop('Diabetes Status', axis=1)\n",
    "y_valid = df_valid['Diabetes Status']\n",
    "\n",
    "X_valid_scaled = scaler.transform(X_valid)\n",
    "\n",
    "print(f\"🧪 SVM - Validation dataset shape: {X_valid.shape}\")\n",
    "\n",
    "y_pred_valid = svm.predict(X_valid_scaled)\n",
    "\n",
    "print(f\"📌 SVM - Validation Classification Report:\")\n",
    "print(classification_report(y_valid, y_pred_valid))\n",
    "\n",
    "print(\"🟦 SVM - Validation Confusion Matrix:\")\n",
    "print(confusion_matrix(y_valid, y_pred_valid))\n"
   ]
  },
  {
   "cell_type": "code",
   "execution_count": null,
   "metadata": {},
   "outputs": [],
   "source": []
  }
 ],
 "metadata": {
  "kernelspec": {
   "display_name": "Python 3",
   "language": "python",
   "name": "python3"
  },
  "language_info": {
   "codemirror_mode": {
    "name": "ipython",
    "version": 3
   },
   "file_extension": ".py",
   "mimetype": "text/x-python",
   "name": "python",
   "nbconvert_exporter": "python",
   "pygments_lexer": "ipython3",
   "version": "3.12.1"
  }
 },
 "nbformat": 4,
 "nbformat_minor": 2
}
