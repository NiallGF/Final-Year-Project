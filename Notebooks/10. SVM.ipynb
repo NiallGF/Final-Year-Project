{
 "cells": [
  {
   "cell_type": "code",
   "execution_count": 1,
   "metadata": {},
   "outputs": [
    {
     "name": "stdout",
     "output_type": "stream",
     "text": [
      "🔍 SVM - Original dataset shape: (4242, 13)\n",
      "🧹 SVM - After dropping NaNs: (948, 13)\n",
      "📊 SVM - Final dataset shape after scaling: (948, 12)\n",
      "✅ SVM - K-Fold Mean Accuracy: 0.8091\n",
      "📌 SVM Classification Report:\n",
      "              precision    recall  f1-score   support\n",
      "\n",
      "           0       0.83      0.83      0.83       380\n",
      "           1       0.89      0.88      0.89       568\n",
      "\n",
      "    accuracy                           0.86       948\n",
      "   macro avg       0.86      0.86      0.86       948\n",
      "weighted avg       0.86      0.86      0.86       948\n",
      "\n",
      "🟦 SVM Confusion Matrix:\n",
      "[[317  63]\n",
      " [ 67 501]]\n"
     ]
    }
   ],
   "source": [
    "import pandas as pd\n",
    "from sklearn.model_selection import KFold, cross_val_score\n",
    "from sklearn.preprocessing import StandardScaler\n",
    "from sklearn.svm import SVC\n",
    "from sklearn.metrics import classification_report, confusion_matrix\n",
    "\n",
    "# Load the dataset\n",
    "data_path = '/workspaces/Final-Year-Project/Cleaned Data/TrainTestData.csv'\n",
    "df = pd.read_csv(data_path)\n",
    "\n",
    "print(f\"🔍 SVM - Original dataset shape: {df.shape}\")\n",
    "\n",
    "# Drop rows with NaN in any feature column\n",
    "df = df.dropna()\n",
    "\n",
    "print(f\"🧹 SVM - After dropping NaNs: {df.shape}\")\n",
    "\n",
    "# Define features and target\n",
    "X = df.drop('Diabetes Status', axis=1)\n",
    "y = df['Diabetes Status']\n",
    "\n",
    "# Standardize the features (important for SVM)\n",
    "scaler = StandardScaler()\n",
    "X_scaled = scaler.fit_transform(X)\n",
    "\n",
    "print(f\"📊 SVM - Final dataset shape after scaling: {X_scaled.shape}\")\n",
    "\n",
    "# Initialize the Support Vector Machine model\n",
    "svm = SVC(kernel='rbf', C=1.0, gamma='scale', random_state=42)\n",
    "\n",
    "# Set up K-Fold cross-validation\n",
    "kf = KFold(n_splits=5, shuffle=True, random_state=42)\n",
    "\n",
    "# Perform cross-validation using accuracy as the metric\n",
    "svm_kfold_scores = cross_val_score(svm, X_scaled, y, cv=kf, scoring='accuracy')\n",
    "\n",
    "# Fit the model on the full dataset for classification report & confusion matrix\n",
    "svm.fit(X_scaled, y)\n",
    "y_pred = svm.predict(X_scaled)\n",
    "\n",
    "# Print results in the same format as previous models\n",
    "print(f\"✅ SVM - K-Fold Mean Accuracy: {svm_kfold_scores.mean():.4f}\")\n",
    "print(\"📌 SVM Classification Report:\")\n",
    "print(classification_report(y, y_pred))\n",
    "print(\"🟦 SVM Confusion Matrix:\")\n",
    "print(confusion_matrix(y, y_pred))\n"
   ]
  },
  {
   "cell_type": "code",
   "execution_count": 2,
   "metadata": {},
   "outputs": [
    {
     "name": "stdout",
     "output_type": "stream",
     "text": [
      "🧪 SVM - Validation dataset shape: (124, 12)\n",
      "📌 SVM - Validation Classification Report:\n",
      "              precision    recall  f1-score   support\n",
      "\n",
      "           0       0.80      0.82      0.81        45\n",
      "           1       0.90      0.89      0.89        79\n",
      "\n",
      "    accuracy                           0.86       124\n",
      "   macro avg       0.85      0.85      0.85       124\n",
      "weighted avg       0.86      0.86      0.86       124\n",
      "\n",
      "🟦 SVM - Validation Confusion Matrix:\n",
      "[[37  8]\n",
      " [ 9 70]]\n"
     ]
    }
   ],
   "source": [
    "from sklearn.metrics import classification_report, confusion_matrix\n",
    "\n",
    "valid_path = \"/workspaces/Final-Year-Project/Cleaned Data/ValidationData.csv\"\n",
    "\n",
    "### 🎯 VALIDATION PHASE ###\n",
    "# Load validation data\n",
    "df_valid = pd.read_csv(valid_path)\n",
    "df_valid = df_valid.dropna()\n",
    "\n",
    "# Define features and target\n",
    "X_valid = df_valid.drop('Diabetes Status', axis=1)\n",
    "y_valid = df_valid['Diabetes Status']\n",
    "\n",
    "# Standardize validation data (using the same scaler from training)\n",
    "X_valid_scaled = scaler.transform(X_valid)\n",
    "\n",
    "print(f\"🧪 SVM - Validation dataset shape: {X_valid.shape}\")\n",
    "\n",
    "# Evaluate on validation set\n",
    "y_pred_valid = svm.predict(X_valid_scaled)\n",
    "\n",
    "# Classification Report\n",
    "print(f\"📌 SVM - Validation Classification Report:\")\n",
    "print(classification_report(y_valid, y_pred_valid))\n",
    "\n",
    "# Confusion Matrix\n",
    "print(\"🟦 SVM - Validation Confusion Matrix:\")\n",
    "print(confusion_matrix(y_valid, y_pred_valid))\n"
   ]
  },
  {
   "cell_type": "code",
   "execution_count": null,
   "metadata": {},
   "outputs": [],
   "source": []
  }
 ],
 "metadata": {
  "kernelspec": {
   "display_name": "Python 3",
   "language": "python",
   "name": "python3"
  },
  "language_info": {
   "codemirror_mode": {
    "name": "ipython",
    "version": 3
   },
   "file_extension": ".py",
   "mimetype": "text/x-python",
   "name": "python",
   "nbconvert_exporter": "python",
   "pygments_lexer": "ipython3",
   "version": "3.12.1"
  }
 },
 "nbformat": 4,
 "nbformat_minor": 2
}
