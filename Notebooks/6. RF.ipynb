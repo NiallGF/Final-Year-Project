{
 "cells": [
  {
   "cell_type": "code",
   "execution_count": 1,
   "metadata": {},
   "outputs": [
    {
     "name": "stdout",
     "output_type": "stream",
     "text": [
      "Fitting 5 folds for each of 9 candidates, totalling 45 fits\n",
      "Best Parameters for Random Forest: {'max_depth': 10, 'n_estimators': 200}\n",
      "Mean Accuracy with Best Parameters: 0.8168266773340445\n",
      "Random Forest Classification Report:\n",
      "              precision    recall  f1-score   support\n",
      "\n",
      "           0       0.86      0.95      0.90      2138\n",
      "           1       0.94      0.84      0.89      2104\n",
      "\n",
      "    accuracy                           0.90      4242\n",
      "   macro avg       0.90      0.90      0.90      4242\n",
      "weighted avg       0.90      0.90      0.90      4242\n",
      "\n",
      "Confusion Matrix:\n",
      "[[2032  106]\n",
      " [ 337 1767]]\n"
     ]
    }
   ],
   "source": [
    "import pandas as pd\n",
    "from sklearn.model_selection import KFold, GridSearchCV\n",
    "from sklearn.preprocessing import StandardScaler\n",
    "from sklearn.metrics import classification_report, confusion_matrix\n",
    "from sklearn.ensemble import RandomForestClassifier\n",
    "\n",
    "# Load the dataset\n",
    "data_path = '/workspaces/Final-Year-Project/Cleaned Data/TrainTestData.csv'\n",
    "df = pd.read_csv(data_path)\n",
    "\n",
    "# Define features and target directly from the dataset\n",
    "X = df.drop('Diabetes Status', axis=1)\n",
    "y = df['Diabetes Status']\n",
    "\n",
    "# Standardize the features\n",
    "scaler = StandardScaler()\n",
    "X = scaler.fit_transform(X)\n",
    "\n",
    "# Initialize the Random Forest model\n",
    "rf = RandomForestClassifier(random_state=42, class_weight='balanced')\n",
    "\n",
    "# Set up the hyperparameter grid for tuning\n",
    "param_grid = {\n",
    "    'n_estimators': [100, 200, 300],       # Number of trees in the forest\n",
    "    'max_depth': [5, 10, 15],               # Maximum depth of each tree\n",
    "         # Min samples required to split a node\n",
    "}\n",
    "\n",
    "# Use GridSearchCV with KFold cross-validation\n",
    "kf = KFold(n_splits=5, shuffle=True, random_state=42)\n",
    "grid_search = GridSearchCV(rf, param_grid, scoring='accuracy', cv=kf, n_jobs=-1, verbose=1)\n",
    "\n",
    "# Fit GridSearchCV on the data\n",
    "grid_search.fit(X, y)\n",
    "\n",
    "# Get the best model\n",
    "best_rf = grid_search.best_estimator_\n",
    "\n",
    "# Evaluate the model with the best parameters\n",
    "y_pred = best_rf.predict(X)\n",
    "\n",
    "# Print the best hyperparameters and the mean accuracy from cross-validation\n",
    "print(\"Best Parameters for Random Forest:\", grid_search.best_params_)\n",
    "print(\"Mean Accuracy with Best Parameters:\", grid_search.best_score_)\n",
    "\n",
    "# Classification report and confusion matrix\n",
    "print(\"Random Forest Classification Report:\")\n",
    "print(classification_report(y, y_pred))\n",
    "print(\"Confusion Matrix:\")\n",
    "print(confusion_matrix(y, y_pred))"
   ]
  },
  {
   "cell_type": "code",
   "execution_count": 2,
   "metadata": {},
   "outputs": [
    {
     "name": "stdout",
     "output_type": "stream",
     "text": [
      "🧪 RF - Validation dataset shape: (124, 12)\n",
      "📌 NN - Validation Classification Report:\n",
      "              precision    recall  f1-score   support\n",
      "\n",
      "           0       0.75      0.93      0.83        45\n",
      "           1       0.96      0.82      0.88        79\n",
      "\n",
      "    accuracy                           0.86       124\n",
      "   macro avg       0.85      0.88      0.86       124\n",
      "weighted avg       0.88      0.86      0.87       124\n",
      "\n",
      "🟦 NN - Validation Confusion Matrix:\n",
      "[[42  3]\n",
      " [14 65]]\n"
     ]
    }
   ],
   "source": [
    "from sklearn.metrics import classification_report, confusion_matrix\n",
    "\n",
    "# File path for validation data\n",
    "valid_path = \"/workspaces/Final-Year-Project/Cleaned Data/ValidationData.csv\"\n",
    "\n",
    "### 🎯 VALIDATION PHASE ###\n",
    "# Load validation data\n",
    "df_valid = pd.read_csv(valid_path)\n",
    "df_valid = df_valid.dropna()\n",
    "\n",
    "# Define features and target\n",
    "X_valid = df_valid.drop('Diabetes Status', axis=1)\n",
    "y_valid = df_valid['Diabetes Status']\n",
    "\n",
    "# Standardize validation data (using the same scaler from training)\n",
    "X_valid_scaled = scaler.transform(X_valid)\n",
    "\n",
    "print(f\"🧪 RF - Validation dataset shape: {X_valid.shape}\")\n",
    "\n",
    "# Evaluate on validation set\n",
    "y_pred_valid = best_rf.predict(X_valid_scaled)\n",
    "\n",
    "# Classification Report\n",
    "print(f\"📌 NN - Validation Classification Report:\")\n",
    "print(classification_report(y_valid, y_pred_valid))\n",
    "\n",
    "# Confusion Matrix\n",
    "print(\"🟦 NN - Validation Confusion Matrix:\")\n",
    "print(confusion_matrix(y_valid, y_pred_valid))\n"
   ]
  },
  {
   "cell_type": "code",
   "execution_count": null,
   "metadata": {},
   "outputs": [],
   "source": []
  }
 ],
 "metadata": {
  "kernelspec": {
   "display_name": "Python 3",
   "language": "python",
   "name": "python3"
  },
  "language_info": {
   "codemirror_mode": {
    "name": "ipython",
    "version": 3
   },
   "file_extension": ".py",
   "mimetype": "text/x-python",
   "name": "python",
   "nbconvert_exporter": "python",
   "pygments_lexer": "ipython3",
   "version": "3.12.1"
  }
 },
 "nbformat": 4,
 "nbformat_minor": 2
}
