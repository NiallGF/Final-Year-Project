{
 "cells": [
  {
   "cell_type": "markdown",
   "metadata": {},
   "source": [
    "**Train Test and Cross Validation**"
   ]
  },
  {
   "cell_type": "code",
   "execution_count": 2,
   "metadata": {},
   "outputs": [],
   "source": [
    "import pandas as pd\n",
    "from sklearn.model_selection import KFold, GridSearchCV\n",
    "from sklearn.preprocessing import StandardScaler\n",
    "from sklearn.ensemble import RandomForestClassifier\n",
    "from sklearn.metrics import classification_report, confusion_matrix\n"
   ]
  },
  {
   "cell_type": "code",
   "execution_count": null,
   "metadata": {},
   "outputs": [
    {
     "name": "stdout",
     "output_type": "stream",
     "text": [
      "🔍 RF - Original dataset shape: (3268, 14)\n",
      "🧹 RF - After dropping NaNs: (3268, 14)\n"
     ]
    }
   ],
   "source": [
    "data_path = '/workspaces/Final-Year-Project/Cleaned Data/TrainTestData.csv'\n",
    "df = pd.read_csv(data_path)\n",
    "\n",
    "X = df.drop('Diabetes Status', axis=1)\n",
    "y = df['Diabetes Status']\n",
    "\n",
    "df = df.dropna()\n",
    "\n",
    "print(f\"RF - Original dataset shape: {df.shape}\")\n",
    "print(f\"RF - After dropping NaNs: {df.shape}\")\n"
   ]
  },
  {
   "cell_type": "code",
   "execution_count": null,
   "metadata": {},
   "outputs": [
    {
     "name": "stdout",
     "output_type": "stream",
     "text": [
      "📊 RF - Final dataset shape after scaling: (3268, 13)\n"
     ]
    }
   ],
   "source": [
    "scaler = StandardScaler()\n",
    "X_scaled = scaler.fit_transform(X)\n",
    "\n",
    "print(f\"RF - Final dataset shape after scaling: {X_scaled.shape}\")\n"
   ]
  },
  {
   "cell_type": "code",
   "execution_count": null,
   "metadata": {},
   "outputs": [],
   "source": [
    "\n",
    "rf = RandomForestClassifier(random_state=42, class_weight='balanced')\n",
    "\n",
    "param_grid = {\n",
    "    'n_estimators': [300], \n",
    "    'max_depth': [8, 9, 10],  \n",
    "}\n",
    "\n",
    "kf = KFold(n_splits=5, shuffle=True, random_state=42)\n",
    "\n",
    "grid_search = GridSearchCV(rf, param_grid, scoring='accuracy', cv=kf, n_jobs=-1, verbose=1)\n"
   ]
  },
  {
   "cell_type": "code",
   "execution_count": null,
   "metadata": {},
   "outputs": [
    {
     "name": "stdout",
     "output_type": "stream",
     "text": [
      "Fitting 5 folds for each of 3 candidates, totalling 15 fits\n",
      "Best Parameters for Random Forest: {'max_depth': 8, 'n_estimators': 300}\n",
      "✅ RF - K-Fold Mean Accuracy: 0.7417\n"
     ]
    }
   ],
   "source": [
    "grid_search.fit(X_scaled, y)\n",
    "\n",
    "best_rf = grid_search.best_estimator_\n",
    "\n",
    "print(\"Best Parameters for Random Forest:\", grid_search.best_params_)\n",
    "print(f\"RF - K-Fold Mean Accuracy: {grid_search.best_score_:.4f}\")\n"
   ]
  },
  {
   "cell_type": "code",
   "execution_count": null,
   "metadata": {},
   "outputs": [
    {
     "name": "stdout",
     "output_type": "stream",
     "text": [
      "📌 RF Classification Report on Training Data:\n",
      "              precision    recall  f1-score   support\n",
      "\n",
      "           0       0.89      0.77      0.82      1638\n",
      "           1       0.79      0.91      0.85      1630\n",
      "\n",
      "    accuracy                           0.84      3268\n",
      "   macro avg       0.84      0.84      0.84      3268\n",
      "weighted avg       0.84      0.84      0.84      3268\n",
      "\n",
      "🟦 RF - Confusion Matrix on Training Data:\n",
      "[[1254  384]\n",
      " [ 151 1479]]\n"
     ]
    }
   ],
   "source": [
    "y_pred = best_rf.predict(X_scaled)\n",
    "\n",
    "print(\"RF Classification Report on Training Data:\")\n",
    "print(classification_report(y, y_pred))\n",
    "\n",
    "print(\"RF - Confusion Matrix on Training Data:\")\n",
    "print(confusion_matrix(y, y_pred))\n"
   ]
  },
  {
   "cell_type": "code",
   "execution_count": null,
   "metadata": {},
   "outputs": [
    {
     "name": "stdout",
     "output_type": "stream",
     "text": [
      "🧪 RF - Validation dataset shape: (364, 13)\n"
     ]
    }
   ],
   "source": [
    "\n",
    "valid_path = \"/workspaces/Final-Year-Project/Cleaned Data/ValidationData.csv\"\n",
    "df_valid = pd.read_csv(valid_path)\n",
    "\n",
    "df_valid = df_valid.dropna()\n",
    "\n",
    "X_valid = df_valid.drop('Diabetes Status', axis=1)\n",
    "y_valid = df_valid['Diabetes Status']\n",
    "\n",
    "X_valid_scaled = scaler.transform(X_valid)\n",
    "\n",
    "print(f\"RF - Validation dataset shape: {X_valid.shape}\")\n"
   ]
  },
  {
   "cell_type": "code",
   "execution_count": null,
   "metadata": {},
   "outputs": [],
   "source": [
    "\n",
    "y_pred_valid = best_rf.predict(X_valid_scaled)\n"
   ]
  },
  {
   "cell_type": "code",
   "execution_count": null,
   "metadata": {},
   "outputs": [
    {
     "name": "stdout",
     "output_type": "stream",
     "text": [
      "📌 RF - Validation Classification Report:\n",
      "              precision    recall  f1-score   support\n",
      "\n",
      "           0       0.78      0.67      0.72       178\n",
      "           1       0.72      0.82      0.77       186\n",
      "\n",
      "    accuracy                           0.74       364\n",
      "   macro avg       0.75      0.74      0.74       364\n",
      "weighted avg       0.75      0.74      0.74       364\n",
      "\n",
      "🟦 RF - Validation Confusion Matrix:\n",
      "[[119  59]\n",
      " [ 34 152]]\n"
     ]
    }
   ],
   "source": [
    "\n",
    "print(f\"RF - Validation Classification Report:\")\n",
    "print(classification_report(y_valid, y_pred_valid))\n",
    "\n",
    "print(\"RF - Validation Confusion Matrix:\")\n",
    "print(confusion_matrix(y_valid, y_pred_valid))\n"
   ]
  }
 ],
 "metadata": {
  "kernelspec": {
   "display_name": "Python 3",
   "language": "python",
   "name": "python3"
  },
  "language_info": {
   "codemirror_mode": {
    "name": "ipython",
    "version": 3
   },
   "file_extension": ".py",
   "mimetype": "text/x-python",
   "name": "python",
   "nbconvert_exporter": "python",
   "pygments_lexer": "ipython3",
   "version": "3.12.1"
  }
 },
 "nbformat": 4,
 "nbformat_minor": 2
}
