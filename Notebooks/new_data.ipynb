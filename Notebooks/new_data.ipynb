{
 "cells": [
  {
   "cell_type": "markdown",
   "metadata": {},
   "source": [
    "**Info Regarding New Data**\n",
    "\n",
    "- Below df's contain idifferent info all combined with the sequence number of the individual.\n",
    "- No explicit data about T2 Diabetes - would need to calculate from other features.\n",
    "- Lots more data can be added **Need to research what other features could be useful**\n",
    "- The codes of the columns are found at https://wwwn.cdc.gov/nchs/nhanes/search/datapage.aspx?Component=Laboratory&Cycle=2021-2023. **Rename columns**"
   ]
  },
  {
   "cell_type": "code",
   "execution_count": 8,
   "metadata": {},
   "outputs": [
    {
     "name": "stdout",
     "output_type": "stream",
     "text": [
      "<class 'pandas.core.frame.DataFrame'>\n",
      "RangeIndex: 3996 entries, 0 to 3995\n",
      "Data columns (total 40 columns):\n",
      " #   Column    Non-Null Count  Dtype  \n",
      "---  ------    --------------  -----  \n",
      " 0   SEQN      3996 non-null   float64\n",
      " 1   DIQ010    3996 non-null   float64\n",
      " 2   DID040    490 non-null    float64\n",
      " 3   DIQ160    3370 non-null   float64\n",
      " 4   DIQ180    3504 non-null   float64\n",
      " 5   DIQ050    490 non-null    float64\n",
      " 6   DID060    145 non-null    float64\n",
      " 7   DIQ060U   139 non-null    float64\n",
      " 8   DIQ070    1040 non-null   float64\n",
      " 9   DBQ010    0 non-null      float64\n",
      " 10  DBD030    0 non-null      float64\n",
      " 11  DBD041    0 non-null      float64\n",
      " 12  DBD050    0 non-null      float64\n",
      " 13  DBD055    0 non-null      float64\n",
      " 14  DBD061    0 non-null      float64\n",
      " 15  DBQ073A   0 non-null      float64\n",
      " 16  DBQ073B   0 non-null      float64\n",
      " 17  DBQ073C   0 non-null      float64\n",
      " 18  DBQ073D   0 non-null      float64\n",
      " 19  DBQ073E   0 non-null      float64\n",
      " 20  DBQ073U   0 non-null      float64\n",
      " 21  DBQ301    1599 non-null   float64\n",
      " 22  DBQ330    1599 non-null   float64\n",
      " 23  DBQ360    571 non-null    float64\n",
      " 24  DBQ370    448 non-null    float64\n",
      " 25  DBD381    431 non-null    float64\n",
      " 26  DBQ390    334 non-null    float64\n",
      " 27  DBQ400    448 non-null    float64\n",
      " 28  DBD411    394 non-null    float64\n",
      " 29  DBQ421    197 non-null    float64\n",
      " 30  DBQ424    277 non-null    float64\n",
      " 31  DBQ930    3701 non-null   float64\n",
      " 32  DBQ935    3701 non-null   float64\n",
      " 33  DBQ940    3701 non-null   float64\n",
      " 34  DBQ945    3701 non-null   float64\n",
      " 35  WTPH2YR   3996 non-null   float64\n",
      " 36  LBXGH     3737 non-null   float64\n",
      " 37  WTSAF2YR  3996 non-null   float64\n",
      " 38  LBXGLU    3672 non-null   float64\n",
      " 39  LBDGLUSI  3672 non-null   float64\n",
      "dtypes: float64(40)\n",
      "memory usage: 1.2 MB\n"
     ]
    }
   ],
   "source": [
    "import pyreadstat\n",
    "\n",
    "df_diabetes = pyreadstat.read_xport('/workspaces/Final-Year-Project/data/nhanes_diabetes.XPT')\n",
    "df_diet = pyreadstat.read_xport('/workspaces/Final-Year-Project/data/nhanes_diet.XPT')\n",
    "df_glycohemoglobin = pyreadstat.read_xport('/workspaces/Final-Year-Project/data/nhanes_glycohemoglobin.XPT')\n",
    "df_plasma = pyreadstat.read_xport('/workspaces/Final-Year-Project/data/nhanes_plasma.XPT')\n",
    "\n",
    "df_combined = df_diabetes[0].merge(df_diet[0], on='SEQN').merge(df_glycohemoglobin[0], on='SEQN').merge(df_plasma[0], on='SEQN')\n",
    "df_combined.info()\n",
    "\n"
   ]
  },
  {
   "cell_type": "code",
   "execution_count": null,
   "metadata": {},
   "outputs": [],
   "source": []
  }
 ],
 "metadata": {
  "kernelspec": {
   "display_name": "Python 3",
   "language": "python",
   "name": "python3"
  },
  "language_info": {
   "codemirror_mode": {
    "name": "ipython",
    "version": 3
   },
   "file_extension": ".py",
   "mimetype": "text/x-python",
   "name": "python",
   "nbconvert_exporter": "python",
   "pygments_lexer": "ipython3",
   "version": "3.12.1"
  }
 },
 "nbformat": 4,
 "nbformat_minor": 2
}
