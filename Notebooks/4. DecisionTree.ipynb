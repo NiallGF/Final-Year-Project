{
 "cells": [
  {
   "cell_type": "code",
   "execution_count": 13,
   "metadata": {},
   "outputs": [
    {
     "name": "stdout",
     "output_type": "stream",
     "text": [
      "Fitting 5 folds for each of 135 candidates, totalling 675 fits\n",
      "Best Parameters for Decision Tree: {'class_weight': 'balanced', 'max_depth': 5, 'max_features': None, 'min_samples_leaf': 2, 'min_samples_split': 10}\n",
      "Mean Accuracy with Best Parameters: 0.5561561561561561\n",
      "Decision Tree Classification Report:\n",
      "              precision    recall  f1-score   support\n",
      "\n",
      "           0       0.76      0.61      0.67       552\n",
      "           1       0.48      0.76      0.59       561\n",
      "           2       0.79      0.49      0.61       552\n",
      "\n",
      "    accuracy                           0.62      1665\n",
      "   macro avg       0.68      0.62      0.62      1665\n",
      "weighted avg       0.68      0.62      0.62      1665\n",
      "\n",
      "Confusion Matrix:\n",
      "[[335 199  18]\n",
      " [ 81 427  53]\n",
      " [ 25 255 272]]\n"
     ]
    }
   ],
   "source": [
    "import pandas as pd\n",
    "from sklearn.model_selection import KFold, GridSearchCV\n",
    "from sklearn.preprocessing import StandardScaler\n",
    "from sklearn.metrics import classification_report, confusion_matrix\n",
    "from sklearn.tree import DecisionTreeClassifier\n",
    "\n",
    "data_path = '/workspaces/Final-Year-Project/Cleaned Data/TrainTestData.csv'\n",
    "df = pd.read_csv(data_path)\n",
    "\n",
    "X = df.drop('Diabetes Status', axis=1)\n",
    "y = df['Diabetes Status']\n",
    "\n",
    "scaler = StandardScaler()\n",
    "X = scaler.fit_transform(X)\n",
    "\n",
    "dt = DecisionTreeClassifier(random_state=42, class_weight='balanced')\n",
    "\n",
    "param_grid = {\n",
    "    'max_depth': [None, 5, 10, 15, 20],\n",
    "    'min_samples_split': [2, 5, 10],\n",
    "    'min_samples_leaf': [1, 2, 5],\n",
    "    'max_features': ['sqrt', 'log2', None],\n",
    "    'class_weight': ['balanced']  # Add class weight as an option\n",
    "}\n",
    "\n",
    "kf = KFold(n_splits=5, shuffle=True, random_state=42)\n",
    "grid_search = GridSearchCV(dt, param_grid, scoring='accuracy', cv=kf, n_jobs=-1, verbose=1)\n",
    "\n",
    "grid_search.fit(X, y)\n",
    "\n",
    "best_dt = grid_search.best_estimator_\n",
    "\n",
    "y_pred = best_dt.predict(X)\n",
    "\n",
    "print(\"Best Parameters for Decision Tree:\", grid_search.best_params_)\n",
    "print(\"Mean Accuracy with Best Parameters:\", grid_search.best_score_)\n",
    "\n",
    "\n",
    "print(\"Decision Tree Classification Report:\")\n",
    "print(classification_report(y, y_pred))\n",
    "print(\"Confusion Matrix:\")\n",
    "print(confusion_matrix(y, y_pred))\n"
   ]
  },
  {
   "cell_type": "code",
   "execution_count": 14,
   "metadata": {},
   "outputs": [
    {
     "name": "stdout",
     "output_type": "stream",
     "text": [
      "<class 'pandas.core.frame.DataFrame'>\n",
      "RangeIndex: 1665 entries, 0 to 1664\n",
      "Data columns (total 15 columns):\n",
      " #   Column           Non-Null Count  Dtype  \n",
      "---  ------           --------------  -----  \n",
      " 0   OHQ845           1665 non-null   float64\n",
      " 1   OCD150           1665 non-null   float64\n",
      " 2   HUQ010           1665 non-null   float64\n",
      " 3   RIDAGEYR         1665 non-null   float64\n",
      " 4   BPAOCSZ          1665 non-null   float64\n",
      " 5   BPXOSY2          1665 non-null   float64\n",
      " 6   BMXWT            1665 non-null   float64\n",
      " 7   BMXBMI           1665 non-null   float64\n",
      " 8   BMXARMC          1665 non-null   float64\n",
      " 9   BMXWAIST         1665 non-null   float64\n",
      " 10  BMXHIP           1665 non-null   float64\n",
      " 11  BPQ020           1665 non-null   float64\n",
      " 12  BPQ101D          1665 non-null   float64\n",
      " 13  RXQ033           1665 non-null   float64\n",
      " 14  Diabetes Status  1665 non-null   int64  \n",
      "dtypes: float64(14), int64(1)\n",
      "memory usage: 195.2 KB\n"
     ]
    }
   ],
   "source": [
    "df.info()"
   ]
  },
  {
   "cell_type": "code",
   "execution_count": 15,
   "metadata": {},
   "outputs": [
    {
     "name": "stdout",
     "output_type": "stream",
     "text": [
      "Fitting 5 folds for each of 4 candidates, totalling 20 fits\n",
      "Best Parameters for Random Forest: {'max_depth': 5, 'n_estimators': 100}\n",
      "Mean Accuracy with Best Parameters: 0.578978978978979\n",
      "Random Forest Classification Report:\n",
      "              precision    recall  f1-score   support\n",
      "\n",
      "           0       0.73      0.71      0.72       552\n",
      "           1       0.58      0.49      0.53       561\n",
      "           2       0.66      0.78      0.71       552\n",
      "\n",
      "    accuracy                           0.66      1665\n",
      "   macro avg       0.66      0.66      0.66      1665\n",
      "weighted avg       0.66      0.66      0.65      1665\n",
      "\n",
      "Confusion Matrix:\n",
      "[[392 104  56]\n",
      " [117 274 170]\n",
      " [ 29  91 432]]\n"
     ]
    }
   ],
   "source": [
    "import pandas as pd\n",
    "from sklearn.model_selection import KFold, GridSearchCV\n",
    "from sklearn.preprocessing import StandardScaler\n",
    "from sklearn.metrics import classification_report, confusion_matrix\n",
    "from sklearn.ensemble import RandomForestClassifier\n",
    "\n",
    "# Load the dataset\n",
    "data_path = '/workspaces/Final-Year-Project/Cleaned Data/TrainTestData.csv'\n",
    "df = pd.read_csv(data_path)\n",
    "\n",
    "# Define features and target directly from the dataset\n",
    "X = df.drop('Diabetes Status', axis=1)\n",
    "y = df['Diabetes Status']\n",
    "\n",
    "# Standardize the features\n",
    "scaler = StandardScaler()\n",
    "X = scaler.fit_transform(X)\n",
    "\n",
    "# Initialize the Random Forest model\n",
    "rf = RandomForestClassifier(random_state=42, class_weight='balanced')\n",
    "\n",
    "# Set up the hyperparameter grid for tuning\n",
    "param_grid = {\n",
    "    'n_estimators': [100, 200],        # Number of trees in the forest\n",
    "    'max_depth': [5, 10],               # Maximum depth of the tree\n",
    "}\n",
    "\n",
    "# Use GridSearchCV with KFold cross-validation\n",
    "kf = KFold(n_splits=5, shuffle=True, random_state=42)\n",
    "grid_search = GridSearchCV(rf, param_grid, scoring='accuracy', cv=kf, n_jobs=-1, verbose=1)\n",
    "\n",
    "# Fit GridSearchCV on the data\n",
    "grid_search.fit(X, y)\n",
    "\n",
    "# Get the best model\n",
    "best_rf = grid_search.best_estimator_\n",
    "\n",
    "# Evaluate the model with the best parameters\n",
    "y_pred = best_rf.predict(X)\n",
    "\n",
    "# Print the best hyperparameters and the mean accuracy from cross-validation\n",
    "print(\"Best Parameters for Random Forest:\", grid_search.best_params_)\n",
    "print(\"Mean Accuracy with Best Parameters:\", grid_search.best_score_)\n",
    "\n",
    "# Classification report and confusion matrix\n",
    "print(\"Random Forest Classification Report:\")\n",
    "print(classification_report(y, y_pred))\n",
    "print(\"Confusion Matrix:\")\n",
    "print(confusion_matrix(y, y_pred))\n",
    "\n"
   ]
  },
  {
   "cell_type": "code",
   "execution_count": null,
   "metadata": {},
   "outputs": [],
   "source": []
  }
 ],
 "metadata": {
  "kernelspec": {
   "display_name": "Python 3",
   "language": "python",
   "name": "python3"
  },
  "language_info": {
   "codemirror_mode": {
    "name": "ipython",
    "version": 3
   },
   "file_extension": ".py",
   "mimetype": "text/x-python",
   "name": "python",
   "nbconvert_exporter": "python",
   "pygments_lexer": "ipython3",
   "version": "3.12.1"
  }
 },
 "nbformat": 4,
 "nbformat_minor": 2
}
