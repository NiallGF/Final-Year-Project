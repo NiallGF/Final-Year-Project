{
 "cells": [
  {
   "cell_type": "code",
   "execution_count": 9,
   "metadata": {},
   "outputs": [
    {
     "name": "stdout",
     "output_type": "stream",
     "text": [
      "Fitting 5 folds for each of 135 candidates, totalling 675 fits\n",
      "Best Parameters for Decision Tree: {'class_weight': 'balanced', 'max_depth': 5, 'max_features': 'sqrt', 'min_samples_leaf': 2, 'min_samples_split': 5}\n",
      "Mean Accuracy with Best Parameters: 0.5587568028326012\n",
      "Decision Tree Classification Report:\n",
      "              precision    recall  f1-score   support\n",
      "\n",
      "           0       0.64      0.70      0.67       500\n",
      "           1       0.54      0.37      0.44       507\n",
      "           2       0.59      0.72      0.65       507\n",
      "\n",
      "    accuracy                           0.60      1514\n",
      "   macro avg       0.59      0.60      0.58      1514\n",
      "weighted avg       0.59      0.60      0.58      1514\n",
      "\n",
      "Confusion Matrix:\n",
      "[[350  62  88]\n",
      " [155 186 166]\n",
      " [ 46  95 366]]\n"
     ]
    }
   ],
   "source": [
    "import pandas as pd\n",
    "from sklearn.model_selection import KFold, GridSearchCV\n",
    "from sklearn.preprocessing import StandardScaler\n",
    "from sklearn.metrics import classification_report, confusion_matrix\n",
    "from sklearn.tree import DecisionTreeClassifier\n",
    "\n",
    "data_path = '/workspaces/Final-Year-Project/Cleaned Data/TrainTestData.csv'\n",
    "df = pd.read_csv(data_path)\n",
    "\n",
    "X = df.drop('Diabetes Status', axis=1)\n",
    "y = df['Diabetes Status']\n",
    "\n",
    "scaler = StandardScaler()\n",
    "X = scaler.fit_transform(X)\n",
    "\n",
    "dt = DecisionTreeClassifier(random_state=42, class_weight='balanced')\n",
    "\n",
    "param_grid = {\n",
    "    'max_depth': [None, 5, 10, 15, 20],\n",
    "    'min_samples_split': [2, 5, 10],\n",
    "    'min_samples_leaf': [1, 2, 5],\n",
    "    'max_features': ['sqrt', 'log2', None],\n",
    "    'class_weight': ['balanced']  # Add class weight as an option\n",
    "}\n",
    "\n",
    "kf = KFold(n_splits=5, shuffle=True, random_state=42)\n",
    "grid_search = GridSearchCV(dt, param_grid, scoring='accuracy', cv=kf, n_jobs=-1, verbose=1)\n",
    "\n",
    "grid_search.fit(X, y)\n",
    "\n",
    "best_dt = grid_search.best_estimator_\n",
    "\n",
    "y_pred = best_dt.predict(X)\n",
    "\n",
    "print(\"Best Parameters for Decision Tree:\", grid_search.best_params_)\n",
    "print(\"Mean Accuracy with Best Parameters:\", grid_search.best_score_)\n",
    "\n",
    "\n",
    "print(\"Decision Tree Classification Report:\")\n",
    "print(classification_report(y, y_pred))\n",
    "print(\"Confusion Matrix:\")\n",
    "print(confusion_matrix(y, y_pred))\n"
   ]
  },
  {
   "cell_type": "code",
   "execution_count": 10,
   "metadata": {},
   "outputs": [
    {
     "name": "stdout",
     "output_type": "stream",
     "text": [
      "<class 'pandas.core.frame.DataFrame'>\n",
      "RangeIndex: 1514 entries, 0 to 1513\n",
      "Data columns (total 14 columns):\n",
      " #   Column           Non-Null Count  Dtype  \n",
      "---  ------           --------------  -----  \n",
      " 0   OHQ845           1514 non-null   float64\n",
      " 1   OCD150           1514 non-null   float64\n",
      " 2   HUQ010           1514 non-null   float64\n",
      " 3   RIDAGEYR         1514 non-null   float64\n",
      " 4   LUXSMED          1514 non-null   float64\n",
      " 5   LUXCAPM          1514 non-null   float64\n",
      " 6   BMXWT            1514 non-null   float64\n",
      " 7   BMXBMI           1514 non-null   float64\n",
      " 8   BMXARMC          1514 non-null   float64\n",
      " 9   BMXWAIST         1514 non-null   float64\n",
      " 10  BPQ020           1514 non-null   float64\n",
      " 11  BPQ101D          1514 non-null   float64\n",
      " 12  RXQ033           1514 non-null   float64\n",
      " 13  Diabetes Status  1514 non-null   int64  \n",
      "dtypes: float64(13), int64(1)\n",
      "memory usage: 165.7 KB\n"
     ]
    }
   ],
   "source": [
    "df.info()"
   ]
  },
  {
   "cell_type": "code",
   "execution_count": 12,
   "metadata": {},
   "outputs": [
    {
     "name": "stdout",
     "output_type": "stream",
     "text": [
      "Fitting 5 folds for each of 4 candidates, totalling 20 fits\n",
      "Best Parameters for Random Forest: {'max_depth': 10, 'n_estimators': 200}\n",
      "Mean Accuracy with Best Parameters: 0.5706729613358688\n",
      "Random Forest Classification Report:\n",
      "              precision    recall  f1-score   support\n",
      "\n",
      "           0       0.95      0.96      0.96       500\n",
      "           1       0.98      0.94      0.96       507\n",
      "           2       0.96      0.98      0.97       507\n",
      "\n",
      "    accuracy                           0.96      1514\n",
      "   macro avg       0.96      0.96      0.96      1514\n",
      "weighted avg       0.96      0.96      0.96      1514\n",
      "\n",
      "Confusion Matrix:\n",
      "[[482   5  13]\n",
      " [ 19 479   9]\n",
      " [  6   4 497]]\n"
     ]
    }
   ],
   "source": [
    "import pandas as pd\n",
    "from sklearn.model_selection import KFold, GridSearchCV\n",
    "from sklearn.preprocessing import StandardScaler\n",
    "from sklearn.metrics import classification_report, confusion_matrix\n",
    "from sklearn.ensemble import RandomForestClassifier\n",
    "\n",
    "# Load the dataset\n",
    "data_path = '/workspaces/Final-Year-Project/Cleaned Data/TrainTestData.csv'\n",
    "df = pd.read_csv(data_path)\n",
    "\n",
    "# Define features and target directly from the dataset\n",
    "X = df.drop('Diabetes Status', axis=1)\n",
    "y = df['Diabetes Status']\n",
    "\n",
    "# Standardize the features\n",
    "scaler = StandardScaler()\n",
    "X = scaler.fit_transform(X)\n",
    "\n",
    "# Initialize the Random Forest model\n",
    "rf = RandomForestClassifier(random_state=42, class_weight='balanced')\n",
    "\n",
    "# Set up the hyperparameter grid for tuning\n",
    "param_grid = {\n",
    "    'n_estimators': [100, 200],        # Number of trees in the forest\n",
    "    'max_depth': [5, 10],               # Maximum depth of the tree\n",
    "}\n",
    "\n",
    "# Use GridSearchCV with KFold cross-validation\n",
    "kf = KFold(n_splits=5, shuffle=True, random_state=42)\n",
    "grid_search = GridSearchCV(rf, param_grid, scoring='accuracy', cv=kf, n_jobs=-1, verbose=1)\n",
    "\n",
    "# Fit GridSearchCV on the data\n",
    "grid_search.fit(X, y)\n",
    "\n",
    "# Get the best model\n",
    "best_rf = grid_search.best_estimator_\n",
    "\n",
    "# Evaluate the model with the best parameters\n",
    "y_pred = best_rf.predict(X)\n",
    "\n",
    "# Print the best hyperparameters and the mean accuracy from cross-validation\n",
    "print(\"Best Parameters for Random Forest:\", grid_search.best_params_)\n",
    "print(\"Mean Accuracy with Best Parameters:\", grid_search.best_score_)\n",
    "\n",
    "# Classification report and confusion matrix\n",
    "print(\"Random Forest Classification Report:\")\n",
    "print(classification_report(y, y_pred))\n",
    "print(\"Confusion Matrix:\")\n",
    "print(confusion_matrix(y, y_pred))\n",
    "\n"
   ]
  },
  {
   "cell_type": "code",
   "execution_count": null,
   "metadata": {},
   "outputs": [],
   "source": []
  }
 ],
 "metadata": {
  "kernelspec": {
   "display_name": "Python 3",
   "language": "python",
   "name": "python3"
  },
  "language_info": {
   "codemirror_mode": {
    "name": "ipython",
    "version": 3
   },
   "file_extension": ".py",
   "mimetype": "text/x-python",
   "name": "python",
   "nbconvert_exporter": "python",
   "pygments_lexer": "ipython3",
   "version": "3.12.1"
  }
 },
 "nbformat": 4,
 "nbformat_minor": 2
}
