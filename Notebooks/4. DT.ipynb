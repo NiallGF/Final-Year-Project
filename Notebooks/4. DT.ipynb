{
 "cells": [
  {
   "cell_type": "markdown",
   "metadata": {},
   "source": [
    "**Train Test and Cross Validation**"
   ]
  },
  {
   "cell_type": "code",
   "execution_count": 2,
   "metadata": {},
   "outputs": [
    {
     "name": "stdout",
     "output_type": "stream",
     "text": [
      "Fitting 5 folds for each of 1 candidates, totalling 5 fits\n",
      "Best Parameters for Decision Tree: {'max_depth': 7}\n",
      "Mean Accuracy with Best Parameters: 0.6188034188034188\n",
      "Decision Tree Classification Report:\n",
      "              precision    recall  f1-score   support\n",
      "\n",
      "           0       0.84      0.65      0.73       580\n",
      "           1       0.72      0.88      0.79       590\n",
      "\n",
      "    accuracy                           0.77      1170\n",
      "   macro avg       0.78      0.76      0.76      1170\n",
      "weighted avg       0.78      0.77      0.76      1170\n",
      "\n",
      "Confusion Matrix:\n",
      "[[378 202]\n",
      " [ 72 518]]\n"
     ]
    }
   ],
   "source": [
    "import pandas as pd\n",
    "from sklearn.model_selection import KFold, GridSearchCV\n",
    "from sklearn.preprocessing import StandardScaler\n",
    "from sklearn.metrics import classification_report, confusion_matrix\n",
    "from sklearn.tree import DecisionTreeClassifier\n",
    "\n",
    "data_path = '/workspaces/Final-Year-Project/Cleaned Data/TrainTestData.csv'\n",
    "df = pd.read_csv(data_path)\n",
    "\n",
    "X = df.drop('Diabetes Status', axis=1)\n",
    "y = df['Diabetes Status']\n",
    "\n",
    "scaler = StandardScaler()\n",
    "X = scaler.fit_transform(X)\n",
    "\n",
    "dt = DecisionTreeClassifier(random_state=42, class_weight='balanced')\n",
    "\n",
    "param_grid = {\n",
    "    'max_depth': [7],\n",
    "}\n",
    "\n",
    "kf = KFold(n_splits=5, shuffle=True, random_state=42)\n",
    "grid_search = GridSearchCV(dt, param_grid, scoring='accuracy', cv=kf, n_jobs=-1, verbose=1)\n",
    "\n",
    "grid_search.fit(X, y)\n",
    "\n",
    "best_dt = grid_search.best_estimator_\n",
    "\n",
    "y_pred = best_dt.predict(X)\n",
    "\n",
    "print(\"Best Parameters for Decision Tree:\", grid_search.best_params_)\n",
    "print(\"Mean Accuracy with Best Parameters:\", grid_search.best_score_)\n",
    "\n",
    "\n",
    "print(\"Decision Tree Classification Report:\")\n",
    "print(classification_report(y, y_pred))\n",
    "print(\"Confusion Matrix:\")\n",
    "print(confusion_matrix(y, y_pred))\n"
   ]
  },
  {
   "cell_type": "markdown",
   "metadata": {},
   "source": [
    "**Model used on validation data**"
   ]
  },
  {
   "cell_type": "code",
   "execution_count": 3,
   "metadata": {},
   "outputs": [
    {
     "name": "stdout",
     "output_type": "stream",
     "text": [
      "🧪 DT - Validation dataset shape: (92, 11)\n",
      "📌 DT - Validation Classification Report:\n",
      "              precision    recall  f1-score   support\n",
      "\n",
      "           0       0.88      0.50      0.64        42\n",
      "           1       0.69      0.94      0.80        50\n",
      "\n",
      "    accuracy                           0.74        92\n",
      "   macro avg       0.78      0.72      0.72        92\n",
      "weighted avg       0.78      0.74      0.72        92\n",
      "\n",
      "🟦 NN - Validation Confusion Matrix:\n",
      "[[21 21]\n",
      " [ 3 47]]\n"
     ]
    }
   ],
   "source": [
    "from sklearn.metrics import classification_report, confusion_matrix\n",
    "\n",
    "valid_path = \"/workspaces/Final-Year-Project/Cleaned Data/ValidationData.csv\"\n",
    "\n",
    "df_valid = pd.read_csv(valid_path)\n",
    "df_valid = df_valid.dropna()\n",
    "\n",
    "X_valid = df_valid.drop('Diabetes Status', axis=1)\n",
    "y_valid = df_valid['Diabetes Status']\n",
    "\n",
    "X_valid_scaled = scaler.transform(X_valid)\n",
    "\n",
    "print(f\"🧪 DT - Validation dataset shape: {X_valid.shape}\")\n",
    "\n",
    "y_pred_valid = best_dt.predict(X_valid_scaled)\n",
    "\n",
    "print(f\"📌 DT - Validation Classification Report:\")\n",
    "print(classification_report(y_valid, y_pred_valid))\n",
    "\n",
    "print(\"🟦 NN - Validation Confusion Matrix:\")\n",
    "print(confusion_matrix(y_valid, y_pred_valid))\n"
   ]
  },
  {
   "cell_type": "markdown",
   "metadata": {},
   "source": [
    "**Results**"
   ]
  },
  {
   "cell_type": "markdown",
   "metadata": {},
   "source": [
    "best - 6 depth\n",
    "\n",
    "🧪 DT - Validation dataset shape: (335, 9)\n",
    "📌 DT - Validation Classification Report:\n",
    "              precision    recall  f1-score   support\n",
    "\n",
    "           0       0.75      0.56      0.64       145\n",
    "           1       0.72      0.86      0.78       190\n",
    "\n",
    "    accuracy                           0.73       335\n",
    "   macro avg       0.73      0.71      0.71       335\n",
    "weighted avg       0.73      0.73      0.72       335\n",
    "\n",
    "🟦 NN - Validation Confusion Matrix:\n",
    "[[ 81  64]\n",
    " [ 27 163]]\n",
    "\n",
    "5 depth\n",
    "\n",
    "🧪 DT - Validation dataset shape: (335, 9)\n",
    "📌 DT - Validation Classification Report:\n",
    "              precision    recall  f1-score   support\n",
    "\n",
    "           0       0.70      0.61      0.65       145\n",
    "           1       0.73      0.80      0.76       190\n",
    "\n",
    "    accuracy                           0.72       335\n",
    "   macro avg       0.72      0.71      0.71       335\n",
    "weighted avg       0.72      0.72      0.72       335\n",
    "\n",
    "🟦 NN - Validation Confusion Matrix:\n",
    "[[ 89  56]\n",
    " [ 38 152]]\n",
    "\n",
    "4 depth\n",
    "\n",
    "🧪 DT - Validation dataset shape: (335, 9)\n",
    "📌 DT - Validation Classification Report:\n",
    "              precision    recall  f1-score   support\n",
    "\n",
    "           0       0.68      0.63      0.65       145\n",
    "           1       0.73      0.78      0.76       190\n",
    "\n",
    "    accuracy                           0.71       335\n",
    "   macro avg       0.71      0.70      0.70       335\n",
    "weighted avg       0.71      0.71      0.71       335\n",
    "\n",
    "🟦 NN - Validation Confusion Matrix:\n",
    "[[ 91  54]\n",
    " [ 42 148]]\n",
    "\n",
    "3 depth\n",
    "\n",
    "🧪 DT - Validation dataset shape: (335, 9)\n",
    "📌 DT - Validation Classification Report:\n",
    "              precision    recall  f1-score   support\n",
    "\n",
    "           0       0.71      0.55      0.62       145\n",
    "           1       0.71      0.83      0.77       190\n",
    "\n",
    "    accuracy                           0.71       335\n",
    "   macro avg       0.71      0.69      0.69       335\n",
    "weighted avg       0.71      0.71      0.70       335\n",
    "\n",
    "🟦 NN - Validation Confusion Matrix:\n",
    "[[ 80  65]\n",
    " [ 32 158]]\n",
    "\n",
    " 7 depth\n",
    "\n",
    " 🧪 DT - Validation dataset shape: (335, 9)\n",
    "📌 DT - Validation Classification Report:\n",
    "              precision    recall  f1-score   support\n",
    "\n",
    "           0       0.63      0.70      0.66       145\n",
    "           1       0.75      0.69      0.72       190\n",
    "\n",
    "    accuracy                           0.69       335\n",
    "   macro avg       0.69      0.69      0.69       335\n",
    "weighted avg       0.70      0.69      0.69       335\n",
    "\n",
    "🟦 NN - Validation Confusion Matrix:\n",
    "[[101  44]\n",
    " [ 59 131]]"
   ]
  },
  {
   "cell_type": "markdown",
   "metadata": {},
   "source": [
    "dt rf knn nb lr ab svm nn"
   ]
  }
 ],
 "metadata": {
  "kernelspec": {
   "display_name": "Python 3",
   "language": "python",
   "name": "python3"
  },
  "language_info": {
   "codemirror_mode": {
    "name": "ipython",
    "version": 3
   },
   "file_extension": ".py",
   "mimetype": "text/x-python",
   "name": "python",
   "nbconvert_exporter": "python",
   "pygments_lexer": "ipython3",
   "version": "3.12.1"
  }
 },
 "nbformat": 4,
 "nbformat_minor": 2
}
