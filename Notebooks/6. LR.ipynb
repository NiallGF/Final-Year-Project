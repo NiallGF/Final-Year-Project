{
 "cells": [
  {
   "cell_type": "code",
   "execution_count": 1,
   "metadata": {},
   "outputs": [],
   "source": [
    "import pandas as pd\n",
    "from sklearn.model_selection import KFold, GridSearchCV\n",
    "from sklearn.preprocessing import StandardScaler\n",
    "from sklearn.linear_model import LogisticRegression\n",
    "from sklearn.metrics import classification_report, confusion_matrix, f1_score\n"
   ]
  },
  {
   "cell_type": "code",
   "execution_count": null,
   "metadata": {},
   "outputs": [
    {
     "name": "stdout",
     "output_type": "stream",
     "text": [
      "🔍 LR - Original dataset shape: (3268, 14)\n",
      "🧹 LR - After dropping NaNs: (3268, 14)\n"
     ]
    }
   ],
   "source": [
    "data_path = '/workspaces/Final-Year-Project/Cleaned Data/TrainTestData.csv'\n",
    "df = pd.read_csv(data_path)\n",
    "\n",
    "print(f\"LR - Original dataset shape: {df.shape}\")\n",
    "\n",
    "df = df.dropna()\n",
    "\n",
    "print(f\"LR - After dropping NaNs: {df.shape}\")\n",
    "\n",
    "X = df.drop('Diabetes Status', axis=1)\n",
    "y = df['Diabetes Status']\n"
   ]
  },
  {
   "cell_type": "code",
   "execution_count": null,
   "metadata": {},
   "outputs": [
    {
     "name": "stdout",
     "output_type": "stream",
     "text": [
      "📊 LR - Final dataset shape after scaling: (3268, 13)\n"
     ]
    }
   ],
   "source": [
    "scaler = StandardScaler()\n",
    "X_scaled = scaler.fit_transform(X)\n",
    "\n",
    "print(f\"LR - Final dataset shape after scaling: {X_scaled.shape}\")\n"
   ]
  },
  {
   "cell_type": "code",
   "execution_count": 4,
   "metadata": {},
   "outputs": [],
   "source": [
    "lr = LogisticRegression(max_iter=80, random_state=42)\n",
    "\n",
    "param_grid = {\n",
    "    #'C': [0.01, 0.1, 1, 10, 100],  \n",
    "    'max_iter': [100, 200, 500], \n",
    "}\n",
    "\n",
    "kf = KFold(n_splits=5, shuffle=True, random_state=42)\n",
    "\n",
    "grid_search = GridSearchCV(lr, param_grid, scoring='accuracy', cv=kf, n_jobs=-1, verbose=1)\n"
   ]
  },
  {
   "cell_type": "code",
   "execution_count": null,
   "metadata": {},
   "outputs": [
    {
     "name": "stdout",
     "output_type": "stream",
     "text": [
      "Fitting 5 folds for each of 3 candidates, totalling 15 fits\n",
      "✅ LR - Best Parameters: {'max_iter': 100}\n",
      "✅ LR - K-Fold Mean Accuracy: 0.7448\n"
     ]
    }
   ],
   "source": [
    "grid_search.fit(X_scaled, y)\n",
    "\n",
    "best_lr = grid_search.best_estimator_\n",
    "\n",
    "print(f\"LR - Best Parameters: {grid_search.best_params_}\")\n",
    "print(f\"LR - K-Fold Mean Accuracy: {grid_search.best_score_:.4f}\")\n"
   ]
  },
  {
   "cell_type": "code",
   "execution_count": null,
   "metadata": {},
   "outputs": [
    {
     "name": "stdout",
     "output_type": "stream",
     "text": [
      "📌 LR Classification Report on Training Data:\n",
      "              precision    recall  f1-score   support\n",
      "\n",
      "           0       0.79      0.68      0.73      1638\n",
      "           1       0.72      0.82      0.77      1630\n",
      "\n",
      "    accuracy                           0.75      3268\n",
      "   macro avg       0.76      0.75      0.75      3268\n",
      "weighted avg       0.76      0.75      0.75      3268\n",
      "\n",
      "🟦 LR - Confusion Matrix on Training Data:\n",
      "[[1109  529]\n",
      " [ 289 1341]]\n"
     ]
    }
   ],
   "source": [
    "y_pred = best_lr.predict(X_scaled)\n",
    "\n",
    "print(\"LR Classification Report on Training Data:\")\n",
    "print(classification_report(y, y_pred))\n",
    "\n",
    "print(\"LR - Confusion Matrix on Training Data:\")\n",
    "print(confusion_matrix(y, y_pred))\n"
   ]
  },
  {
   "cell_type": "code",
   "execution_count": 7,
   "metadata": {},
   "outputs": [
    {
     "name": "stdout",
     "output_type": "stream",
     "text": [
      "🧪 LR - Validation dataset shape: (364, 13)\n"
     ]
    }
   ],
   "source": [
    "valid_path = \"/workspaces/Final-Year-Project/Cleaned Data/ValidationData.csv\"\n",
    "df_valid = pd.read_csv(valid_path)\n",
    "\n",
    "df_valid = df_valid.dropna()\n",
    "\n",
    "X_valid = df_valid.drop('Diabetes Status', axis=1)\n",
    "y_valid = df_valid['Diabetes Status']\n",
    "\n",
    "X_valid_scaled = scaler.transform(X_valid)\n",
    "\n",
    "print(f\"🧪 LR - Validation dataset shape: {X_valid.shape}\")\n"
   ]
  },
  {
   "cell_type": "code",
   "execution_count": 8,
   "metadata": {},
   "outputs": [],
   "source": [
    "y_pred_valid = best_lr.predict(X_valid_scaled)\n"
   ]
  },
  {
   "cell_type": "code",
   "execution_count": null,
   "metadata": {},
   "outputs": [
    {
     "name": "stdout",
     "output_type": "stream",
     "text": [
      "📌 LR - Validation Classification Report:\n",
      "              precision    recall  f1-score   support\n",
      "\n",
      "           0       0.79      0.68      0.73       178\n",
      "           1       0.73      0.83      0.78       186\n",
      "\n",
      "    accuracy                           0.76       364\n",
      "   macro avg       0.76      0.75      0.75       364\n",
      "weighted avg       0.76      0.76      0.75       364\n",
      "\n",
      "🟦 LR - Validation Confusion Matrix:\n",
      "[[121  57]\n",
      " [ 32 154]]\n"
     ]
    }
   ],
   "source": [
    "print(f\"LR - Validation Classification Report:\")\n",
    "print(classification_report(y_valid, y_pred_valid))\n",
    "\n",
    "print(\"LR - Validation Confusion Matrix:\")\n",
    "print(confusion_matrix(y_valid, y_pred_valid))\n"
   ]
  }
 ],
 "metadata": {
  "kernelspec": {
   "display_name": "Python 3",
   "language": "python",
   "name": "python3"
  },
  "language_info": {
   "codemirror_mode": {
    "name": "ipython",
    "version": 3
   },
   "file_extension": ".py",
   "mimetype": "text/x-python",
   "name": "python",
   "nbconvert_exporter": "python",
   "pygments_lexer": "ipython3",
   "version": "3.12.1"
  }
 },
 "nbformat": 4,
 "nbformat_minor": 2
}
