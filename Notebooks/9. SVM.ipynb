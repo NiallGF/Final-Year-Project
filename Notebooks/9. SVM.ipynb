{
 "cells": [
  {
   "cell_type": "code",
   "execution_count": 1,
   "metadata": {},
   "outputs": [],
   "source": [
    "import pandas as pd\n",
    "from sklearn.model_selection import KFold, cross_val_score, GridSearchCV\n",
    "from sklearn.preprocessing import StandardScaler\n",
    "from sklearn.svm import SVC\n",
    "from sklearn.metrics import classification_report, confusion_matrix, f1_score\n"
   ]
  },
  {
   "cell_type": "code",
   "execution_count": 2,
   "metadata": {},
   "outputs": [
    {
     "name": "stdout",
     "output_type": "stream",
     "text": [
      "SVM - Original dataset shape: (3268, 14)\n",
      "SVM - After dropping NaNs: (3268, 14)\n"
     ]
    }
   ],
   "source": [
    "\n",
    "data_path = '/workspaces/Final-Year-Project/Cleaned Data/TrainTestData.csv'\n",
    "df = pd.read_csv(data_path)\n",
    "\n",
    "print(f\"SVM - Original dataset shape: {df.shape}\")\n",
    "\n",
    "df = df.dropna()\n",
    "\n",
    "print(f\"SVM - After dropping NaNs: {df.shape}\")\n",
    "\n",
    "X = df.drop('Diabetes Status', axis=1)\n",
    "y = df['Diabetes Status']\n"
   ]
  },
  {
   "cell_type": "code",
   "execution_count": 3,
   "metadata": {},
   "outputs": [
    {
     "name": "stdout",
     "output_type": "stream",
     "text": [
      "SVM - Final dataset shape after scaling: (3268, 13)\n"
     ]
    }
   ],
   "source": [
    "\n",
    "scaler = StandardScaler()\n",
    "X_scaled = scaler.fit_transform(X)\n",
    "\n",
    "print(f\"SVM - Final dataset shape after scaling: {X_scaled.shape}\")\n"
   ]
  },
  {
   "cell_type": "code",
   "execution_count": 4,
   "metadata": {},
   "outputs": [
    {
     "name": "stdout",
     "output_type": "stream",
     "text": [
      "SVM - K-Fold Mean Accuracy: 0.7423\n"
     ]
    }
   ],
   "source": [
    "svm = SVC(kernel='rbf', C=1.0, gamma='scale', random_state=42)\n",
    "\n",
    "kf = KFold(n_splits=5, shuffle=True, random_state=42)\n",
    "\n",
    "svm_kfold_scores = cross_val_score(svm, X_scaled, y, cv=kf, scoring='accuracy')\n",
    "\n",
    "print(f\"SVM - K-Fold Mean Accuracy: {svm_kfold_scores.mean():.4f}\")\n"
   ]
  },
  {
   "cell_type": "code",
   "execution_count": 5,
   "metadata": {},
   "outputs": [
    {
     "name": "stdout",
     "output_type": "stream",
     "text": [
      "SVM Classification Report on Training Data:\n",
      "              precision    recall  f1-score   support\n",
      "\n",
      "           0       0.83      0.68      0.75      1638\n",
      "           1       0.73      0.86      0.79      1630\n",
      "\n",
      "    accuracy                           0.77      3268\n",
      "   macro avg       0.78      0.77      0.77      3268\n",
      "weighted avg       0.78      0.77      0.77      3268\n",
      "\n",
      "SVM - Confusion Matrix on Training Data:\n",
      "[[1111  527]\n",
      " [ 226 1404]]\n"
     ]
    }
   ],
   "source": [
    "\n",
    "svm.fit(X_scaled, y)\n",
    "\n",
    "y_pred = svm.predict(X_scaled)\n",
    "\n",
    "print(\"SVM Classification Report on Training Data:\")\n",
    "print(classification_report(y, y_pred))\n",
    "\n",
    "print(\"SVM - Confusion Matrix on Training Data:\")\n",
    "print(confusion_matrix(y, y_pred))\n"
   ]
  },
  {
   "cell_type": "code",
   "execution_count": 6,
   "metadata": {},
   "outputs": [
    {
     "name": "stdout",
     "output_type": "stream",
     "text": [
      "Fitting 5 folds for each of 12 candidates, totalling 60 fits\n"
     ]
    },
    {
     "name": "stdout",
     "output_type": "stream",
     "text": [
      "[CV] END ...............................C=0.0001, kernel=rbf; total time=   0.5s\n",
      "[CV] END ...............................C=0.0001, kernel=rbf; total time=   0.5s\n",
      "[CV] END ...............................C=0.0001, kernel=rbf; total time=   0.6s\n",
      "[CV] END ...............................C=0.0001, kernel=rbf; total time=   0.6s\n",
      "[CV] END ............................C=0.0001, kernel=linear; total time=   0.3s\n",
      "[CV] END ...............................C=0.0001, kernel=rbf; total time=   0.6s\n",
      "[CV] END ............................C=0.0001, kernel=linear; total time=   0.4s\n",
      "[CV] END ............................C=0.0001, kernel=linear; total time=   0.4s\n",
      "[CV] END ............................C=0.0001, kernel=linear; total time=   0.4s\n",
      "[CV] END ............................C=0.0001, kernel=linear; total time=   0.4s\n",
      "[CV] END ................................C=0.001, kernel=rbf; total time=   0.5s\n",
      "[CV] END ................................C=0.001, kernel=rbf; total time=   0.5s\n",
      "[CV] END ................................C=0.001, kernel=rbf; total time=   0.5s\n",
      "[CV] END ................................C=0.001, kernel=rbf; total time=   0.5s\n",
      "[CV] END .............................C=0.001, kernel=linear; total time=   0.3s\n",
      "[CV] END ................................C=0.001, kernel=rbf; total time=   0.6s\n",
      "[CV] END .............................C=0.001, kernel=linear; total time=   0.4s\n",
      "[CV] END .............................C=0.001, kernel=linear; total time=   0.5s\n",
      "[CV] END .............................C=0.001, kernel=linear; total time=   0.5s\n",
      "[CV] END .............................C=0.001, kernel=linear; total time=   0.5s\n",
      "[CV] END .................................C=0.01, kernel=rbf; total time=   0.5s\n",
      "[CV] END .................................C=0.01, kernel=rbf; total time=   0.5s\n",
      "[CV] END .................................C=0.01, kernel=rbf; total time=   0.5s\n",
      "[CV] END .................................C=0.01, kernel=rbf; total time=   0.5s\n",
      "[CV] END ..............................C=0.01, kernel=linear; total time=   0.2s\n",
      "[CV] END .................................C=0.01, kernel=rbf; total time=   0.5s\n",
      "[CV] END ..............................C=0.01, kernel=linear; total time=   0.2s\n",
      "[CV] END ..............................C=0.01, kernel=linear; total time=   0.2s\n",
      "[CV] END ..............................C=0.01, kernel=linear; total time=   0.3s\n",
      "[CV] END ..............................C=0.01, kernel=linear; total time=   0.2s\n",
      "[CV] END ..................................C=0.1, kernel=rbf; total time=   0.4s\n",
      "[CV] END ..................................C=0.1, kernel=rbf; total time=   0.4s\n",
      "[CV] END ..................................C=0.1, kernel=rbf; total time=   0.4s\n",
      "[CV] END ..................................C=0.1, kernel=rbf; total time=   0.4s\n",
      "[CV] END ...............................C=0.1, kernel=linear; total time=   0.2s\n",
      "[CV] END ..................................C=0.1, kernel=rbf; total time=   0.4s\n",
      "[CV] END ...............................C=0.1, kernel=linear; total time=   0.2s\n",
      "[CV] END ...............................C=0.1, kernel=linear; total time=   0.3s\n",
      "[CV] END ...............................C=0.1, kernel=linear; total time=   0.3s\n",
      "[CV] END ...............................C=0.1, kernel=linear; total time=   0.2s\n",
      "[CV] END ..................................C=1.0, kernel=rbf; total time=   0.3s\n",
      "[CV] END ..................................C=1.0, kernel=rbf; total time=   0.3s\n",
      "[CV] END ..................................C=1.0, kernel=rbf; total time=   0.4s\n",
      "[CV] END ..................................C=1.0, kernel=rbf; total time=   0.3s\n",
      "[CV] END ..................................C=1.0, kernel=rbf; total time=   0.5s\n",
      "[CV] END ...............................C=1.0, kernel=linear; total time=   0.5s\n",
      "[CV] END ...............................C=1.0, kernel=linear; total time=   0.4s\n",
      "[CV] END ...............................C=1.0, kernel=linear; total time=   0.4s\n",
      "[CV] END ...............................C=1.0, kernel=linear; total time=   0.4s\n",
      "[CV] END ...............................C=1.0, kernel=linear; total time=   0.4s\n",
      "[CV] END .................................C=10.0, kernel=rbf; total time=   0.5s\n",
      "[CV] END .................................C=10.0, kernel=rbf; total time=   0.5s\n",
      "[CV] END .................................C=10.0, kernel=rbf; total time=   0.5s\n",
      "[CV] END .................................C=10.0, kernel=rbf; total time=   0.4s\n",
      "[CV] END .................................C=10.0, kernel=rbf; total time=   0.6s\n",
      "[CV] END ..............................C=10.0, kernel=linear; total time=   1.1s\n",
      "[CV] END ..............................C=10.0, kernel=linear; total time=   1.1s\n",
      "[CV] END ..............................C=10.0, kernel=linear; total time=   1.1s\n",
      "[CV] END ..............................C=10.0, kernel=linear; total time=   1.3s\n",
      "[CV] END ..............................C=10.0, kernel=linear; total time=   1.3s\n",
      "Best Parameters: {'C': 0.01, 'kernel': 'linear'}\n",
      "Best Cross-Validation Accuracy: 0.7457\n"
     ]
    }
   ],
   "source": [
    "param_grid = {\n",
    "    'C': [0.0001, 0.001, 0.01, 0.1, 1.0, 10.0],\n",
    "    'kernel': ['rbf', 'linear']\n",
    "}\n",
    "\n",
    "grid_search = GridSearchCV(SVC(), param_grid, cv=kf, n_jobs=-1, verbose=2, scoring='accuracy')\n",
    "\n",
    "grid_search.fit(X_scaled, y)\n",
    "\n",
    "print(f\"Best Parameters: {grid_search.best_params_}\")\n",
    "print(f\"Best Cross-Validation Accuracy: {grid_search.best_score_:.4f}\")\n"
   ]
  },
  {
   "cell_type": "code",
   "execution_count": 7,
   "metadata": {},
   "outputs": [
    {
     "name": "stdout",
     "output_type": "stream",
     "text": [
      "SVM - Validation dataset shape: (364, 13)\n"
     ]
    }
   ],
   "source": [
    "valid_path = \"/workspaces/Final-Year-Project/Cleaned Data/ValidationData.csv\"\n",
    "df_valid = pd.read_csv(valid_path)\n",
    "\n",
    "df_valid = df_valid.dropna()\n",
    "\n",
    "X_valid = df_valid.drop('Diabetes Status', axis=1)\n",
    "y_valid = df_valid['Diabetes Status']\n",
    "\n",
    "X_valid_scaled = scaler.transform(X_valid)\n",
    "\n",
    "print(f\"SVM - Validation dataset shape: {X_valid.shape}\")\n"
   ]
  },
  {
   "cell_type": "code",
   "execution_count": 8,
   "metadata": {},
   "outputs": [],
   "source": [
    "y_pred_valid = svm.predict(X_valid_scaled)\n"
   ]
  },
  {
   "cell_type": "code",
   "execution_count": 9,
   "metadata": {},
   "outputs": [
    {
     "name": "stdout",
     "output_type": "stream",
     "text": [
      "SVM (Best Params) - Validation Classification Report:\n",
      "              precision    recall  f1-score   support\n",
      "\n",
      "           0       0.82      0.66      0.73       178\n",
      "           1       0.73      0.87      0.79       186\n",
      "\n",
      "    accuracy                           0.76       364\n",
      "   macro avg       0.77      0.76      0.76       364\n",
      "weighted avg       0.77      0.76      0.76       364\n",
      "\n",
      "SVM (Best Params) - Validation Confusion Matrix:\n",
      "[[117  61]\n",
      " [ 25 161]]\n"
     ]
    }
   ],
   "source": [
    "\n",
    "best_svm = grid_search.best_estimator_\n",
    "\n",
    "y_pred_valid = best_svm.predict(X_valid_scaled)\n",
    "\n",
    "print(f\"SVM (Best Params) - Validation Classification Report:\")\n",
    "print(classification_report(y_valid, y_pred_valid))\n",
    "\n",
    "print(\"SVM (Best Params) - Validation Confusion Matrix:\")\n",
    "print(confusion_matrix(y_valid, y_pred_valid))\n",
    "\n"
   ]
  }
 ],
 "metadata": {
  "kernelspec": {
   "display_name": "Python 3",
   "language": "python",
   "name": "python3"
  },
  "language_info": {
   "codemirror_mode": {
    "name": "ipython",
    "version": 3
   },
   "file_extension": ".py",
   "mimetype": "text/x-python",
   "name": "python",
   "nbconvert_exporter": "python",
   "pygments_lexer": "ipython3",
   "version": "3.12.1"
  }
 },
 "nbformat": 4,
 "nbformat_minor": 2
}
